{
 "cells": [
  {
   "attachments": {},
   "cell_type": "markdown",
   "metadata": {},
   "source": [
    "# <span style=\"color:darkblue\"> Lecture 5 Optional Appendix: While Loops </span>"
   ]
  },
  {
   "attachments": {},
   "cell_type": "markdown",
   "metadata": {},
   "source": [
    "<font size=\"5\"> \n",
    "\n",
    "This is an optional note on how to use While Loops\n",
    "\n",
    "- Read this after the Lecture 5 file"
   ]
  },
  {
   "attachments": {},
   "cell_type": "markdown",
   "metadata": {},
   "source": [
    "<font size = \"5\">\n",
    "\n",
    "Simple sequences: $[0,1,2,...,n-1]$"
   ]
  },
  {
   "cell_type": "code",
   "execution_count": null,
   "metadata": {},
   "outputs": [
    {
     "name": "stdout",
     "output_type": "stream",
     "text": [
      "[0, 1, 2, 3, 4, 5, 6, 7, 8, 9]\n",
      "[0, 1, 2]\n"
     ]
    }
   ],
   "source": [
    "# Use \"list(range(n))\" to create a list from 0 to (n-1).\n",
    "\n",
    "# The following command\n",
    "# create a list of numbers from 0 to 9, with increments of 1.\n",
    "# It stops one less than the number you enter.\n",
    "\n",
    "list_zero_ten = list(range(10))\n",
    "print(list_zero_ten)\n",
    "\n",
    "list_x  = [\"January\",\"February\",\"March\"]\n",
    "list_positions = list(range(len(list_x)))\n",
    "\n",
    "print(list_positions)\n"
   ]
  }
 ],
 "metadata": {
  "kernelspec": {
   "display_name": "Python 3",
   "language": "python",
   "name": "python3"
  },
  "language_info": {
   "codemirror_mode": {
    "name": "ipython",
    "version": 3
   },
   "file_extension": ".py",
   "mimetype": "text/x-python",
   "name": "python",
   "nbconvert_exporter": "python",
   "pygments_lexer": "ipython3",
   "version": "3.11.0 (main, Oct 24 2022, 18:26:48) [MSC v.1933 64 bit (AMD64)]"
  },
  "orig_nbformat": 4,
  "vscode": {
   "interpreter": {
    "hash": "42b0d7c6159d34a85365a73cb02b6d09d2fe374ec037592e43ae0fc926acaa1b"
   }
  }
 },
 "nbformat": 4,
 "nbformat_minor": 2
}
