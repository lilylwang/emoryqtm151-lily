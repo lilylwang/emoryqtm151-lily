{
 "cells": [
  {
   "attachments": {},
   "cell_type": "markdown",
   "metadata": {},
   "source": [
    "# <span style=\"color:darkblue\"> Lecture 2: Variables and Lists </span>"
   ]
  },
  {
   "attachments": {},
   "cell_type": "markdown",
   "metadata": {},
   "source": [
    "<font size=\"5\"> \n",
    "\n",
    "In the previous class we:\n",
    "- Reviewed the basic structure of Jupyter notebooks\n",
    "- Showed how to install and import libraries"
   ]
  },
  {
   "attachments": {},
   "cell_type": "markdown",
   "metadata": {},
   "source": [
    "<font size=\"5\"> \n",
    "\n",
    "In this class we will:\n",
    "\n",
    "- Introduce variables and lists\n",
    "- Compute a histogram plot\n",
    "- (Optional) Common pitfalls and understanding errors"
   ]
  },
  {
   "attachments": {},
   "cell_type": "markdown",
   "metadata": {},
   "source": [
    "# <span style=\"color:darkblue\"> Import Libraries </span>"
   ]
  },
  {
   "cell_type": "code",
<<<<<<< HEAD
   "execution_count": 29,
=======
   "execution_count": 21,
>>>>>>> upstream/main
   "metadata": {},
   "outputs": [],
   "source": [
    "# The matplotlib library is used to create graphs\n",
    "\n",
    "import matplotlib.pyplot as plt"
   ]
  },
  {
   "attachments": {},
   "cell_type": "markdown",
   "metadata": {},
   "source": [
    "## "
   ]
  },
  {
   "attachments": {},
   "cell_type": "markdown",
   "metadata": {},
   "source": [
    "# <span style=\"color:darkblue\"> Variables and Data Types </span>"
   ]
  },
  {
   "attachments": {},
   "cell_type": "markdown",
   "metadata": {},
   "source": [
    "<font size=\"5\"> \n",
    "\n",
    "Identify the type of object\n",
    "- Integers, Floats (numbers with decimals) or strings (text)\n",
    "- Type is a function, with an argument in parenthesis (...)"
   ]
  },
  {
   "cell_type": "code",
<<<<<<< HEAD
   "execution_count": 30,
=======
   "execution_count": 22,
>>>>>>> upstream/main
   "metadata": {},
   "outputs": [
    {
     "data": {
      "text/plain": [
       "int"
      ]
     },
<<<<<<< HEAD
     "execution_count": 30,
=======
     "execution_count": 22,
>>>>>>> upstream/main
     "metadata": {},
     "output_type": "execute_result"
    }
   ],
   "source": [
    "type(3)"
   ]
  },
  {
   "cell_type": "code",
<<<<<<< HEAD
   "execution_count": 31,
=======
   "execution_count": 23,
>>>>>>> upstream/main
   "metadata": {},
   "outputs": [
    {
     "data": {
      "text/plain": [
       "float"
      ]
     },
<<<<<<< HEAD
     "execution_count": 31,
=======
     "execution_count": 23,
>>>>>>> upstream/main
     "metadata": {},
     "output_type": "execute_result"
    }
   ],
   "source": [
    "type(3.5)"
   ]
  },
  {
   "cell_type": "code",
<<<<<<< HEAD
   "execution_count": 32,
=======
   "execution_count": 24,
>>>>>>> upstream/main
   "metadata": {},
   "outputs": [
    {
     "data": {
      "text/plain": [
       "str"
      ]
     },
<<<<<<< HEAD
     "execution_count": 32,
=======
     "execution_count": 24,
>>>>>>> upstream/main
     "metadata": {},
     "output_type": "execute_result"
    }
   ],
   "source": [
    "type('hello')"
   ]
  },
  {
   "cell_type": "code",
<<<<<<< HEAD
   "execution_count": 33,
=======
   "execution_count": 25,
>>>>>>> upstream/main
   "metadata": {},
   "outputs": [
    {
     "data": {
      "text/plain": [
       "str"
      ]
     },
<<<<<<< HEAD
     "execution_count": 33,
=======
     "execution_count": 25,
>>>>>>> upstream/main
     "metadata": {},
     "output_type": "execute_result"
    }
   ],
   "source": [
    "# You can define strings with either single or double quotations.\n",
    "type(\"hello\")"
   ]
  },
  {
   "attachments": {},
   "cell_type": "markdown",
   "metadata": {},
   "source": [
    "<font size=\"5\"> \n",
    "\n",
    "Store Variables in memory\n",
    "\n",
    "- Assign variables with \"=\"\n",
    "- Write meaningful names, without spaces\n",
    "- Can use underscore \"_\"\n",
    "- Click \"Variables\" in the top panel of Jupyter Notebooks"
   ]
  },
  {
   "cell_type": "code",
<<<<<<< HEAD
   "execution_count": 34,
=======
   "execution_count": 26,
>>>>>>> upstream/main
   "metadata": {},
   "outputs": [],
   "source": [
    "# Try choosing your names on the left of \"=\"\n",
    "\n",
    "number3        = 3\n",
    "number3andhalf = 3.5\n",
    "message_hello  = \"hello\""
   ]
  },
  {
   "cell_type": "code",
<<<<<<< HEAD
   "execution_count": 35,
=======
   "execution_count": 27,
>>>>>>> upstream/main
   "metadata": {},
   "outputs": [
    {
     "data": {
      "text/plain": [
       "3"
      ]
     },
<<<<<<< HEAD
     "execution_count": 35,
=======
     "execution_count": 27,
>>>>>>> upstream/main
     "metadata": {},
     "output_type": "execute_result"
    }
   ],
   "source": [
    "# You can show the output by writing the name of the variable\n",
    "# Try including different variables\n",
    "\n",
    "number3"
   ]
  },
  {
   "cell_type": "code",
<<<<<<< HEAD
   "execution_count": 36,
=======
   "execution_count": 28,
>>>>>>> upstream/main
   "metadata": {},
   "outputs": [
    {
     "name": "stdout",
     "output_type": "stream",
     "text": [
      "3\n",
      "3.5\n"
     ]
    }
   ],
   "source": [
    "# Jupyter only shows the output for the last object\n",
    "# You can show multiple outputs by using the function \"print\"\n",
    "\n",
    "print(number3)\n",
    "print(number3andhalf)"
   ]
  },
  {
   "attachments": {},
   "cell_type": "markdown",
   "metadata": {},
   "source": [
    "<font size=\"5\"> \n",
    "\n",
    "Basic operations on integers and floats\n",
    "\n",
    "- Addition (+), Multiplication (*), Subtraction (-), Division (/), Exponentiation (**)\n",
    "- If you try this on a string it will not work"
   ]
  },
  {
   "cell_type": "code",
<<<<<<< HEAD
   "execution_count": 37,
=======
   "execution_count": 29,
>>>>>>> upstream/main
   "metadata": {},
   "outputs": [
    {
     "name": "stdout",
     "output_type": "stream",
     "text": [
      "6\n",
      "5\n",
      "1\n",
      "1.5\n",
      "9\n"
     ]
    }
   ],
   "source": [
    "# Basic operations on numbers\n",
    "print(3*2)\n",
    "print(3+2)\n",
    "print(3-2)\n",
    "print(3/2)\n",
    "print(3**2)"
   ]
  },
  {
   "attachments": {},
   "cell_type": "markdown",
   "metadata": {},
   "source": [
    "<font size=\"5\"> \n",
    "\n",
    "Use parenthesis for composite operations"
   ]
  },
  {
   "cell_type": "code",
<<<<<<< HEAD
   "execution_count": 38,
=======
   "execution_count": 30,
>>>>>>> upstream/main
   "metadata": {},
   "outputs": [
    {
     "data": {
      "text/plain": [
       "1.4"
      ]
     },
<<<<<<< HEAD
     "execution_count": 38,
=======
     "execution_count": 30,
>>>>>>> upstream/main
     "metadata": {},
     "output_type": "execute_result"
    }
   ],
   "source": [
    "(3 + 4) / 5"
   ]
  },
  {
   "cell_type": "code",
<<<<<<< HEAD
   "execution_count": 39,
=======
   "execution_count": 31,
>>>>>>> upstream/main
   "metadata": {},
   "outputs": [],
   "source": [
    "# Try doing the same with the variable \"number3\" or \"number3andhalf instead.\n",
    "\n",
    "\n"
   ]
  },
  {
   "attachments": {},
   "cell_type": "markdown",
   "metadata": {},
   "source": [
    "<font size=\"5\"> \n",
    "\n",
    "Concatenate \"add\" two strings"
   ]
  },
  {
   "cell_type": "code",
<<<<<<< HEAD
   "execution_count": 40,
=======
   "execution_count": 32,
>>>>>>> upstream/main
   "metadata": {},
   "outputs": [
    {
     "data": {
      "text/plain": [
       "'My name is David'"
      ]
     },
<<<<<<< HEAD
     "execution_count": 40,
=======
     "execution_count": 32,
>>>>>>> upstream/main
     "metadata": {},
     "output_type": "execute_result"
    }
   ],
   "source": [
    "# Use the + symbol to concatenate two or more strings\n",
    "# This is very useful to contract strings where one part stays the same,\n",
    "# and the other is a user input.\n",
    "\n",
    "name = \"David\"\n",
    "\n",
    "\"My name is \"  + name"
   ]
  },
  {
   "attachments": {},
   "cell_type": "markdown",
   "metadata": {},
   "source": [
    "# <span style=\"color:darkblue\"> Lists </span>"
   ]
  },
  {
   "attachments": {},
   "cell_type": "markdown",
   "metadata": {},
   "source": [
    "<font size=\"5\"> \n",
    "\n",
    "Store Lists\n",
    "\n",
    "- Lists are always denote by square brackets [...]\n",
    "- Elements separated by commas"
   ]
  },
  {
   "cell_type": "code",
<<<<<<< HEAD
   "execution_count": 41,
=======
   "execution_count": 33,
>>>>>>> upstream/main
   "metadata": {},
   "outputs": [],
   "source": [
    "# List of numbers\n",
    "# Example: Suppose you ask 5 people about their favorite color. The results:\n",
    "list_numbers     = [1,2,3,4,5]\n",
    "list_numbers_sqr = [1,4,9,16,25]"
   ]
  },
  {
   "cell_type": "code",
<<<<<<< HEAD
   "execution_count": 42,
=======
   "execution_count": 34,
>>>>>>> upstream/main
   "metadata": {},
   "outputs": [],
   "source": [
    "# List with strings\n",
    "# Example: Suppose you ask 5 people about their favorite color. The results:\n",
    "list_colors = [\"red\",\"yellow\",\"yellow\", \"green\",\"red\"]"
   ]
  },
  {
   "cell_type": "code",
<<<<<<< HEAD
   "execution_count": 43,
=======
   "execution_count": 35,
>>>>>>> upstream/main
   "metadata": {},
   "outputs": [],
   "source": [
    "# List with mixed types\n",
    "list_mixedtype = [\"red\",1,\"yellow\",4,5]"
   ]
  },
  {
   "attachments": {},
   "cell_type": "markdown",
   "metadata": {},
   "source": [
    "<font size=\"5\">\n",
    "\n",
    "Extract individual elements from a list\n",
    "\n",
    "- Use square brackets, e.g. list_colors[2]\n",
    "- Python lists always start at the **ZERO** position\n",
    "\n",
    "\n",
    "<img src=\"figures/house_diagram.png\" alt=\"drawing\" width=\"650\"/>"
   ]
  },
  {
   "cell_type": "code",
<<<<<<< HEAD
   "execution_count": 44,
=======
   "execution_count": 36,
>>>>>>> upstream/main
   "metadata": {},
   "outputs": [
    {
     "data": {
      "text/plain": [
       "'ground'"
      ]
     },
<<<<<<< HEAD
     "execution_count": 44,
=======
     "execution_count": 36,
>>>>>>> upstream/main
     "metadata": {},
     "output_type": "execute_result"
    }
   ],
   "source": [
    "floors_england = [\"ground\", \"floor1\", \"floor2\" ]\n",
    "\n",
    "floors_england[0]"
   ]
  },
  {
   "cell_type": "code",
<<<<<<< HEAD
   "execution_count": 45,
=======
   "execution_count": 37,
>>>>>>> upstream/main
   "metadata": {},
   "outputs": [
    {
     "name": "stdout",
     "output_type": "stream",
     "text": [
      "red\n",
      "yellow\n",
      "yellow\n",
      "green\n",
      "red\n"
     ]
    }
   ],
   "source": [
    "# Use print to show the output of multiple commands\n",
    "print(list_colors[0])\n",
    "print(list_colors[1])\n",
    "print(list_colors[2])\n",
    "print(list_colors[3])\n",
    "print(list_colors[4])"
   ]
  },
  {
   "cell_type": "code",
<<<<<<< HEAD
   "execution_count": 46,
=======
   "execution_count": 38,
>>>>>>> upstream/main
   "metadata": {},
   "outputs": [],
   "source": [
    "# Try creating a list with four elements, and then selecting the third entry\n",
    "\n"
   ]
  },
  {
   "attachments": {},
   "cell_type": "markdown",
   "metadata": {},
   "source": [
    "# <span style=\"color:darkblue\"> Visualizing Lists </span>"
   ]
  },
  {
   "attachments": {},
   "cell_type": "markdown",
   "metadata": {},
   "source": [
    "<font size=\"5\"> \n",
    "\n",
    "A histogram for categorical data"
   ]
  },
  {
   "cell_type": "code",
<<<<<<< HEAD
   "execution_count": 47,
=======
   "execution_count": 39,
>>>>>>> upstream/main
   "metadata": {},
   "outputs": [
    {
     "data": {
      "text/plain": [
       "(array([2., 0., 0., 0., 0., 2., 0., 0., 0., 1.]),\n",
       " array([0. , 0.2, 0.4, 0.6, 0.8, 1. , 1.2, 1.4, 1.6, 1.8, 2. ]),\n",
       " <BarContainer object of 10 artists>)"
      ]
     },
<<<<<<< HEAD
     "execution_count": 47,
=======
     "execution_count": 39,
>>>>>>> upstream/main
     "metadata": {},
     "output_type": "execute_result"
    },
    {
     "data": {
      "image/png": "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",
      "text/plain": [
       "<Figure size 640x480 with 1 Axes>"
      ]
     },
     "metadata": {},
     "output_type": "display_data"
    }
   ],
   "source": [
    "# This creates a histogram with the \"list_colors\"\n",
    "plt.hist(x= list_colors)"
   ]
  },
  {
   "cell_type": "code",
<<<<<<< HEAD
   "execution_count": 48,
=======
   "execution_count": 40,
>>>>>>> upstream/main
   "metadata": {},
   "outputs": [
    {
     "data": {
      "text/plain": [
       "(array([3., 0., 0., 0., 0., 1., 0., 0., 0., 2.]),\n",
       " array([0. , 0.2, 0.4, 0.6, 0.8, 1. , 1.2, 1.4, 1.6, 1.8, 2. ]),\n",
       " <BarContainer object of 10 artists>)"
      ]
     },
     "execution_count": 48,
     "metadata": {},
     "output_type": "execute_result"
    },
    {
     "data": {
      "image/png": "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",
      "text/plain": [
       "<Figure size 640x480 with 1 Axes>"
      ]
     },
     "metadata": {},
     "output_type": "display_data"
    }
   ],
   "source": [
    "# Creat a list with repeated string values\n",
    "# Compute your own histogram\n",
    "\n",
    "list_fruits = [\"apples\", \"apples\", \"banana\", \"honeydew\", \"honeydew\", \"apples\"]\n",
    "plt.hist(x= list_fruits)"
   ]
  },
  {
   "attachments": {},
   "cell_type": "markdown",
   "metadata": {},
   "source": [
    "<font size=\"5\"> \n",
    "\n",
    "A histogram for continuous data"
   ]
  },
  {
   "cell_type": "code",
<<<<<<< HEAD
   "execution_count": 49,
=======
   "execution_count": 41,
>>>>>>> upstream/main
   "metadata": {},
   "outputs": [
    {
     "data": {
      "image/png": "iVBORw0KGgoAAAANSUhEUgAAAjIAAAHHCAYAAACle7JuAAAAOXRFWHRTb2Z0d2FyZQBNYXRwbG90bGliIHZlcnNpb24zLjYuMiwgaHR0cHM6Ly9tYXRwbG90bGliLm9yZy8o6BhiAAAACXBIWXMAAA9hAAAPYQGoP6dpAABVD0lEQVR4nO3dd1QU198G8GfpKE2kCyKioihqxEiwFyKo0aAmGqMJqLGBLcaaXyKiJpZETbPFGiOJ3di7CHaxdxTEDnZ6Edj7/uFhXxcW2MWljD6fc/Yc9+7M7PfujOyzM3dmZEIIASIiIiIJ0invAoiIiIhKikGGiIiIJItBhoiIiCSLQYaIiIgki0GGiIiIJItBhoiIiCSLQYaIiIgki0GGiIiIJItBhoiIiCSLQYbKXY0aNfDRRx+V2vJXrlwJmUyG06dPl9p7qEsmk2HKlCnlXYaStm3bokGDBuVdBgH4+++/UbduXejr68PCwqJU3uP27duQyWRYuXKlom3KlCmQyWSl8n4lcfPmTXTs2BHm5uaQyWT477//yrskjchkMgwfPry8y3hnMMhI0IIFCyCTyeDl5VXepZBEPHz4EFOmTMH58+fLuxQqxPXr1xEYGAhXV1csWbIEf/75Z3mXVKTS3KYCAgJw6dIl/PDDD/j777/RtGlTrb8HvT30yrsA0lxYWBhq1KiBU6dOISYmBrVq1SrvkkhNGRkZ0NMr+/92Dx8+RGhoKGrUqIHGjRuX+ftT8Q4dOgS5XI5ff/21zP9Pf/fdd5g4caJG85TWNpWRkYHjx4/jf//7H/dqkFq4R0Zi4uLicOzYMcydOxfW1tYICwsrk/dNS0srk/d52xkZGZVLkCHNCSGQkZFRZu/3+PFjACi1Q0pF0dPTg5GRUZm/rypPnjwBUD6fg5RkZmZCLpeXdxkVAoOMxISFhaFKlSro0qULPvnkE42CjFwux5QpU+Dg4IBKlSqhXbt2uHr1KmrUqIHAwEDFdHljSiIiIhAUFAQbGxs4OjoCAO7cuYOgoCC4ubnB2NgYVatWxaefforbt28rvVfeMiIjIzFkyBBUrVoVZmZm+PLLL/HixQuV9R05cgTNmjWDkZERatasiVWrVqnVrzVr1sDT0xOmpqYwMzODh4cHfv311wLTZWVlYcyYMbC2tkblypXRvXt3xR/N1y1YsAD169eHoaEhHBwcEBwcjMTERMXrv/32G3R1dZXa5syZA5lMhjFjxijacnNzYWpqigkTJija8o+RyRubEBMTg8DAQFhYWMDc3Bz9+/dHenq6Ul0ZGRkYOXIkrKysYGpqim7duuHBgwfFjrs5dOgQ3n//fQBA//79IZPJCoyRAICrV6+iXbt2qFSpEqpVq4bZs2er/AxDQkJQq1YtGBoawsnJCePHj0dWVlah75/n5s2b6NmzJ+zs7GBkZARHR0d89tlnSEpKUlr+119/DWtra0Uf79+/X6CPgYGBqFGjRoH3UDXWY8WKFWjfvj1sbGxgaGgId3d3LFy4sMC8eWO19uzZg6ZNm8LY2BiLFy8GACQmJmL06NFwcnKCoaEhatWqhVmzZqn9RVLcNlWjRg2EhIQAAKytrYtdpxcvXkRgYCBq1qwJIyMj2NnZYcCAAXj27Jla9eSn6nPbt28fWrZsCQsLC5iYmMDNzQ3ffvstAPW3qfzOnTuHTp06wczMDCYmJujQoQNOnDihVIezszMAYNy4cZDJZCrXc55Dhw5BJpNh3bp1+OGHH+Do6AgjIyN06NABMTExStPm/zuXp23btmjbtq3KZYaGhqJatWowNTXFJ598gqSkJGRlZWH06NGwsbGBiYkJ+vfvX+j2HxYWBjc3NxgZGcHT0xORkZEFpnnw4AEGDBgAW1tbGBoaon79+li+fLnKfq5ZswbfffcdqlWrhkqVKiE5ORnZ2dkIDQ1F7dq1YWRkhKpVq6Jly5bYt29foZ/b24Y/DSUmLCwMPXr0gIGBAfr06YOFCxciKipK8UelKJMmTcLs2bPRtWtX+Pr64sKFC/D19UVmZqbK6YOCgmBtbY3Jkycr9shERUXh2LFj+Oyzz+Do6Ijbt29j4cKFaNu2La5evYpKlSopLWP48OGwsLDAlClTEB0djYULF+LOnTuK/5h5YmJi8Mknn2DgwIEICAjA8uXLERgYCE9PT9SvX7/QPu3btw99+vRBhw4dMGvWLADAtWvXcPToUYwaNUpp2hEjRqBKlSoICQnB7du38csvv2D48OFYu3atYpopU6YgNDQUPj4+GDZsmKLmqKgoHD16FPr6+mjVqhXkcjmOHDmiGKR8+PBh6Ojo4PDhw4plnTt3DqmpqWjdunWx66ZXr15wcXHBjBkzcPbsWSxduhQ2NjaKPgGvvrzXrVuHL774Ah988AEiIiLQpUuXYpddr149TJ06FZMnT8bgwYPRqlUrAEDz5s0V07x48QJ+fn7o0aMHevXqhQ0bNmDChAnw8PBAp06dALwKwt26dcORI0cwePBg1KtXD5cuXcK8efNw48aNIgdkvnz5Er6+vsjKysKIESNgZ2eHBw8eYPv27UhMTIS5uTkA4KuvvsLq1avx+eefo3nz5jh48KBafSzKwoULUb9+fXTr1g16enrYtm0bgoKCIJfLERwcrDRtdHQ0+vTpgyFDhmDQoEFwc3NDeno62rRpgwcPHmDIkCGoXr06jh07hkmTJiE+Ph6//PJLke+vzjb1yy+/YNWqVdi8eTMWLlwIExMTNGzYsNBl7tu3D7du3UL//v1hZ2eHK1eu4M8//8SVK1dw4sSJNx64e+XKFXz00Udo2LAhpk6dCkNDQ8TExODo0aMA1NumVC2zVatWMDMzw/jx46Gvr4/Fixejbdu2iIiIgJeXF3r06AELCwt8/fXX6NOnDzp37gwTE5Ni6505cyZ0dHQwduxYJCUlYfbs2ejbty9OnjxZ4s9gxowZMDY2xsSJExETE4Pff/8d+vr60NHRwYsXLzBlyhScOHECK1euhIuLCyZPnqw0f0REBNauXYuRI0fC0NAQCxYsgJ+fH06dOqUYXP/o0SN88MEHisHB1tbW2LVrFwYOHIjk5GSMHj1aaZnTpk2DgYEBxo4di6ysLBgYGGDKlCmYMWMGvvrqKzRr1gzJyck4ffo0zp49iw8//LDE/ZcUQZJx+vRpAUDs27dPCCGEXC4Xjo6OYtSoUcXOm5CQIPT09IS/v79S+5QpUwQAERAQoGhbsWKFACBatmwpcnJylKZPT08vsOzjx48LAGLVqlUFluHp6SlevnypaJ89e7YAILZs2aJoc3Z2FgBEZGSkou3x48fC0NBQfPPNN0X2a9SoUcLMzKxAna/Lq8XHx0fI5XJF+9dffy10dXVFYmKi4j0NDAxEx44dRW5urmK6P/74QwAQy5cvF0IIkZubK8zMzMT48eOFEK/WQ9WqVcWnn34qdHV1RUpKihBCiLlz5wodHR3x4sULxbIAiJCQEMXzkJAQAUAMGDBAqebu3buLqlWrKp6fOXNGABCjR49Wmi4wMLDAMlWJiooSAMSKFSsKvNamTZsC6y8rK0vY2dmJnj17Ktr+/vtvoaOjIw4fPqw0/6JFiwQAcfTo0ULf/9y5cwKAWL9+faHTnD9/XgAQQUFBSu2ff/55gT4GBAQIZ2fnAsvI+zxfp2qb9fX1FTVr1lRqy9sOd+/erdQ+bdo0UblyZXHjxg2l9okTJwpdXV1x9+7dQvuk7jb1eu1PnjwpdHlF9enff/8t8P9Ilbi4uALbQv7Pbd68ecXWUtQ2pYq/v78wMDAQsbGxiraHDx8KU1NT0bp16wL1/fTTT8UuMzw8XAAQ9erVE1lZWYr2X3/9VQAQly5dUrQ5Ozsr/Z3L06ZNG9GmTZsCy2zQoIHS364+ffoImUwmOnXqpDS/t7d3gW0RgAAgTp8+rWi7c+eOMDIyEt27d1e0DRw4UNjb24unT58qzf/ZZ58Jc3NzxXrOq6lmzZoF1n2jRo1Ely5dCvmE3g08tCQhYWFhsLW1Rbt27QC8OkzRu3dvrFmzBrm5uUXOe+DAAeTk5CAoKEipfcSIEYXOM2jQIOjq6iq1GRsbK/6dnZ2NZ8+eoVatWrCwsMDZs2cLLGPw4MHQ19dXPB82bBj09PSwc+dOpenc3d0Vv+qAV7vX3dzccOvWrSL7ZWFhgbS0NLV2ow4ePFjpl2qrVq2Qm5uLO3fuAAD279+Ply9fYvTo0dDR+f//GoMGDYKZmRl27NgBANDR0UHz5s0Vu4mvXbuGZ8+eYeLEiRBC4Pjx4wBe7aVp0KCBWsf6hw4dqvS8VatWePbsGZKTkwEAu3fvBgCN1p8mTExM0K9fP8VzAwMDNGvWTOnzX79+PerVq4e6devi6dOnikf79u0BAOHh4YUuP2+Py549ewocMsuTt02MHDlSqT3/r1JNvb7NJiUl4enTp2jTpg1u3bqldFgLAFxcXODr66vUtn79erRq1QpVqlRR6rePjw9yc3NVHi7Io+429SZ9yszMxNOnT/HBBx8AgMr/h5rK22a3bNmilXEYubm52Lt3L/z9/VGzZk1Fu729PT7//HMcOXJEsa2XRP/+/WFgYKB4nve3pLi/H0X58ssvlf52eXl5QQiBAQMGKE3n5eWFe/fuIScnR6nd29sbnp6eiufVq1fHxx9/jD179iA3NxdCCGzcuBFdu3aFEEJp2/L19UVSUlKBdRkQEKC07oFX6+rKlSu4efNmifsqdQwyEpGbm4s1a9agXbt2iIuLQ0xMDGJiYuDl5YVHjx7hwIEDRc6f92Wd/2wIS0tLVKlSReU8Li4uBdoyMjIwefJkxVgBKysrWFtbIzExscCXAgDUrl1b6bmJiQns7e0LjKmpXr16gXmrVKlS6HiaPEFBQahTpw46deoER0dHDBgwQPGln1/+98jrd9575H1Gbm5uStMZGBigZs2aiteBV38oz5w5g4yMDBw+fBj29vZo0qQJGjVqpDi8dOTIEaVwVhR1atPR0SmwTrR1doujo2OBwxH5P/+bN2/iypUrsLa2VnrUqVMHwP8PVlXFxcUFY8aMwdKlS2FlZQVfX1/Mnz9faZvJ66Orq6vSvPnXh6aOHj0KHx8fVK5cGRYWFrC2tlaM9VAVZPK7efMmdu/eXaDfPj4+AIrutybblCaeP3+OUaNGwdbWFsbGxrC2tlbUrur/oaZ69+6NFi1a4KuvvoKtrS0+++wzrFu3rsSh5smTJ0hPT1e5LuvVqwe5XI579+6VuN7i/v9oY5l5YdzJyalAu1wuL/C55//bBwB16tRBeno6njx5gidPniAxMRF//vlngW2rf//+AApuW6q2z6lTpyIxMRF16tSBh4cHxo0bh4sXL2reYQnjGBmJOHjwIOLj47FmzRqsWbOmwOthYWHo2LGjVt8zf/IHXu0BWLFiBUaPHg1vb2/FBas+++yzN/rlln/PTx4hRJHz2djY4Pz589izZw927dqFXbt2YcWKFfjyyy/x119/aeU9VGnZsiWys7Nx/PhxHD58WBFYWrVqhcOHD+P69et48uSJ2kFGm7WVhDrvL5fL4eHhgblz56qcNv8f+PzmzJmDwMBAbNmyBXv37sXIkSMxY8YMnDhxQjGYXF2FjQHJv2cyNjYWHTp0QN26dTF37lw4OTnBwMAAO3fuxLx58wpss6q2eblcjg8//BDjx49X+Z55Qa4s9erVC8eOHcO4cePQuHFjmJiYQC6Xw8/PTyt7UIyNjREZGYnw8HDs2LEDu3fvxtq1a9G+fXvs3bu30O2lvKiz/Ra1zaiav7Blauv/at566tevHwICAlROk3+clKrts3Xr1oiNjVX8v1q6dCnmzZuHRYsW4auvvtKoJqlikJGIsLAw2NjYYP78+QVe27RpEzZv3oxFixap3NABKM4EiImJUUr1z5490+hXy4YNGxAQEIA5c+Yo2jIzM5XOwHjdzZs3FYfCACA1NRXx8fHo3Lmz2u9ZHAMDA3Tt2hVdu3aFXC5HUFAQFi9ejO+//16jPRZ5n1F0dLTS7u+XL18iLi5O8QscAJo1awYDAwMcPnwYhw8fxrhx4wC8+qOyZMkSxR4ydQb6qlubXC5HXFyc0i+9/GdmFEYbV211dXXFhQsX0KFDhxIvz8PDAx4eHvjuu+9w7NgxtGjRAosWLcL06dMVfYyNjVX65R4dHV1gOVWqVFG5zeXfw7Ft2zZkZWVh69atSr+wizoMlp+rqytSU1OV1r+6NNmm1PXixQscOHAAoaGhSgNMtX1oQUdHBx06dECHDh0wd+5c/Pjjj/jf//6H8PBw+Pj4aLQNWFtbo1KlSirX5fXr16Gjo1NsEH5TRW0zr68bbVG1Pm7cuIFKlSrB2toaAGBqaorc3NwSbQevs7S0RP/+/dG/f3/FCQZTpkx5Z4IMDy1JQEZGBjZt2oSPPvoIn3zySYHH8OHDkZKSgq1btxa6jA4dOkBPT6/Aaad//PGHRrXo6uoW+OXx+++/FzpG588//0R2drbi+cKFC5GTk6M4E+ZN5T/dVEdHR/ErRp1Tgl/n4+MDAwMD/Pbbb0p9XLZsGZKSkpTOnjEyMsL777+Pf//9F3fv3lXaI5ORkYHffvsNrq6usLe3L2nXlOSN21iwYIFS+++//67W/JUrVwaAQgOnOnr16oUHDx5gyZIlBV7LyMgo8lpDycnJBcYQeHh4QEdHR7Ge8raJ3377TWk6VWcFubq6IikpSWkXenx8PDZv3qw0Xd6v59fXZ1JSElasWFForfn16tULx48fx549ewq8lpiYWKBfr9Nkm1KXqj4Bqj+nknr+/HmBtryL3uWtL022KV1dXXTs2BFbtmxROqz86NEj/PPPP2jZsiXMzMzeuO6iuLq64sSJE3j58qWibfv27W90SKsox48fVxrjcu/ePWzZsgUdO3aErq4udHV10bNnT2zcuBGXL18uML+qS0Ookv9voImJCWrVqqXx3z8p4x4ZCdi6dStSUlLQrVs3la9/8MEHiovj9e7dW+U0tra2GDVqFObMmYNu3brBz88PFy5cwK5du2BlZaX2r6uPPvoIf//9N8zNzeHu7o7jx49j//79qFq1qsrpX758iQ4dOqBXr16Ijo7GggUL0LJly0L7oqmvvvoKz58/R/v27eHo6Ig7d+7g999/R+PGjVGvXj2NlmVtbY1JkyYhNDQUfn5+6Natm6Lm999/X2kwLPAqtMycORPm5ubw8PAA8OpQl5ubG6Kjo1Ves6KkPD090bNnT/zyyy949uyZ4vTrGzduACh+j4urqyssLCywaNEimJqaonLlyvDy8lJ5zL0wX3zxBdatW4ehQ4ciPDwcLVq0QG5uLq5fv45169Yprr+iysGDBzF8+HB8+umnqFOnDnJycvD3338r/pgDr74o+/TpgwULFiApKQnNmzfHgQMHVO51+uyzzzBhwgR0794dI0eORHp6OhYuXIg6deoofXl07NhRscduyJAhSE1NxZIlS2BjY4P4+Hi1+j1u3Dhs3boVH330keKSAGlpabh06RI2bNiA27dvw8rKSuW8mm5T6jAzM0Pr1q0xe/ZsZGdno1q1ati7dy/i4uI0XlZhpk6disjISHTp0gXOzs54/PgxFixYAEdHR7Rs2RKA5tvU9OnTFdemCQoKgp6eHhYvXoysrCyV1yzStq+++gobNmyAn58fevXqhdjYWKxevbrAmCxtadCgAXx9fZVOvwaA0NBQxTQzZ85EeHg4vLy8MGjQILi7u+P58+c4e/Ys9u/frzJQ5ufu7o62bdvC09MTlpaWOH36NDZs2PBuXRW5HM6UIg117dpVGBkZibS0tEKnCQwMFPr6+gVO43tdTk6O+P7774WdnZ0wNjYW7du3F9euXRNVq1YVQ4cOVUyXd7pyVFRUgWW8ePFC9O/fX1hZWQkTExPh6+srrl+/XuDUxrxlREREiMGDB4sqVaoIExMT0bdvX/Hs2TOlZTo7O6s8fTD/aZGqbNiwQXTs2FHY2NgIAwMDUb16dTFkyBARHx9fbH/yTmkMDw9Xav/jjz9E3bp1hb6+vrC1tRXDhg1TOoU6z44dOwSAAqdjfvXVVwKAWLZsWYF5UMjp1/lPc82rOS4uTtGWlpYmgoODhaWlpTAxMRH+/v4iOjpaABAzZ84s8nMSQogtW7YId3d3oaenp3TabJs2bUT9+vULTK/qFOeXL1+KWbNmifr16wtDQ0NRpUoV4enpKUJDQ0VSUlKh733r1i0xYMAA4erqKoyMjISlpaVo166d2L9/v9J0GRkZYuTIkaJq1aqicuXKomvXruLevXsqTzHfu3evaNCggTAwMBBubm5i9erVKk+/3rp1q2jYsKEwMjISNWrUELNmzRLLly8v8PkWth0KIURKSoqYNGmSqFWrljAwMBBWVlaiefPm4ueff1Y6Rbcw6mxTmpx+ff/+fdG9e3dhYWEhzM3NxaeffioePnyo1qn46px+feDAAfHxxx8LBwcHYWBgIBwcHESfPn0KnIJe2DZVmLNnzwpfX19hYmIiKlWqJNq1ayeOHTumsj5NTr/Of1q/qj4KIcScOXNEtWrVhKGhoWjRooU4ffp0oadf519mYX9HVK03ACI4OFisXr1a1K5dWxgaGor33nuvwN8aIYR49OiRCA4OFk5OTkJfX1/Y2dmJDh06iD///LPYmoQQYvr06aJZs2bCwsJCGBsbi7p164offvhBre3ybSETooxGE1KFlJiYiCpVqmD69On43//+p7Xlrly5Ev3790dUVBRv+FaKzp8/j/feew+rV69G3759y7ucUiOTyRASElLh7hxOROWPY2TeIaruG5N3XP31S3RTxVTY+tPR0dHaoGIiIqnhGJl3yNq1a7Fy5UrFZb+PHDmCf//9Fx07dkSLFi3KuzwqxuzZs3HmzBm0a9cOenp6itPNBw8eXOpnfBARVVQMMu+Qhg0bQk9PD7Nnz0ZycrJiAPD06dPLuzRSQ/PmzbFv3z5MmzYNqampqF69OqZMmaLVQ4JERFLDMTJEREQkWRwjQ0RERJLFIENERESS9daPkZHL5Xj48CFMTU21cpl2IiIiKn1CCKSkpMDBwUHp7vH5vfVB5uHDhzyjg4iISKLu3btX5I1l3/ogY2pqCuDVB1Ha9/IgIiIi7UhOToaTk5Pie7wwb32QyTucZGZmxiBDREQkMcUNC+FgXyIiIpIsBhkiIiKSLAYZIiIikiwGGSIiIpIsBhkiIiKSLAYZIiIikiwGGSIiIpIsBhkiIiKSLAYZIiIikqy3/sq+REREpH25coFTcc/xOCUTNqZGaOZiCV2dsr85c7nukZkxYwbef/99mJqawsbGBv7+/oiOjlaapm3btpDJZEqPoUOHllPFREREtPtyPFrOOog+S05g1Jrz6LPkBFrOOojdl+PLvJZyDTIREREIDg7GiRMnsG/fPmRnZ6Njx45IS0tTmm7QoEGIj49XPGbPnl1OFRMREb3bdl+Ox7DVZxGflKnUnpCUiWGrz5Z5mCnXQ0u7d+9Wer5y5UrY2NjgzJkzaN26taK9UqVKsLOzK+vyiIiI6DW5coHQbVchVLwmAMgAhG67ig/d7crsMFOFGuyblJQEALC0tFRqDwsLg5WVFRo0aIBJkyYhPT290GVkZWUhOTlZ6UFERERv7lTc8wJ7Yl4nAMQnZeJU3PMyq6nCDPaVy+UYPXo0WrRogQYNGijaP//8czg7O8PBwQEXL17EhAkTEB0djU2bNqlczowZMxAaGlpWZRMREb0zHqcUHmJKMp02VJggExwcjMuXL+PIkSNK7YMHD1b828PDA/b29ujQoQNiY2Ph6upaYDmTJk3CmDFjFM+Tk5Ph5ORUeoUTERG9I2xMjbQ6nTZUiCAzfPhwbN++HZGRkXB0dCxyWi8vLwBATEyMyiBjaGgIQ0PDUqmTiIjoXdbMxRL25kZISMpUOU5GBsDO/NWp2GWlXMfICCEwfPhwbN68GQcPHoSLi0ux85w/fx4AYG9vX8rVERER0et0dWQI6eoO4FVoeV3e85Cu7mV6PZlyDTLBwcFYvXo1/vnnH5iamiIhIQEJCQnIyMgAAMTGxmLatGk4c+YMbt++ja1bt+LLL79E69at0bBhw/IsnYiI6J3k18AeC/s1gZ258uEjO3MjLOzXBH4NynZHg0wIoWrvUNm8uUx1YluxYgUCAwNx79499OvXD5cvX0ZaWhqcnJzQvXt3fPfddzAzM1PrPZKTk2Fubo6kpCS15yEiIqKilfaVfdX9/i7XIFMWGGSIiIikR93v7wp1HRkiIiIiTTDIEBERkWQxyBAREZFkMcgQERGRZDHIEBERkWQxyBAREZFkMcgQERGRZDHIEBERkWQxyBAREZFkMcgQERGRZDHIEBERkWQxyBAREZFkMcgQERGRZDHIEBERkWQxyBAREZFkMcgQERGRZDHIEBERkWQxyBAREZFkMcgQERGRZDHIEBERkWQxyBAREZFkMcgQERGRZDHIEBERkWQxyBAREZFkMcgQERGRZDHIEBERkWQxyBAREZFkMcgQERGRZDHIEBERkWQxyBAREZFkMcgQERGRZDHIEBERkWQxyBAREZFkMcgQERGRZDHIEBERkWQxyBAREZFkMcgQERGRZDHIEBERkWQxyBAREZFkMcgQERGRZDHIEBERkWQxyBAREZFkMcgQERGRZDHIEBERkWQxyBAREZFkMcgQERGRZDHIEBERkWQxyBAREZFkMcgQERGRZDHIEBERkWQxyBAREZFkMcgQERGRZDHIEBERkWQxyBAREZFkMcgQERGRZDHIEBERkWQxyBAREZFkMcgQERGRZDHIEBERkWSVa5CZMWMG3n//fZiamsLGxgb+/v6Ijo5WmiYzMxPBwcGoWrUqTExM0LNnTzx69KicKiYiIqKKpFyDTEREBIKDg3HixAns27cP2dnZ6NixI9LS0hTTfP3119i2bRvWr1+PiIgIPHz4ED169CjHqomIiKiikAkhRHkXkefJkyewsbFBREQEWrdujaSkJFhbW+Off/7BJ598AgC4fv066tWrh+PHj+ODDz4odpnJyckwNzdHUlISzMzMSrsLREREpAXqfn9XqDEySUlJAABLS0sAwJkzZ5CdnQ0fHx/FNHXr1kX16tVx/PhxlcvIyspCcnKy0oOIiIjeThUmyMjlcowePRotWrRAgwYNAAAJCQkwMDCAhYWF0rS2trZISEhQuZwZM2bA3Nxc8XBycirt0omIiKicVJggExwcjMuXL2PNmjVvtJxJkyYhKSlJ8bh3756WKiQiIqKKRq+8CwCA4cOHY/v27YiMjISjo6Oi3c7ODi9fvkRiYqLSXplHjx7Bzs5O5bIMDQ1haGhY2iUTERFRBVCue2SEEBg+fDg2b96MgwcPwsXFRel1T09P6Ovr48CBA4q26Oho3L17F97e3mVdLhEREVUw5bpHJjg4GP/88w+2bNkCU1NTxbgXc3NzGBsbw9zcHAMHDsSYMWNgaWkJMzMzjBgxAt7e3mqdsURERERvt3I9/Vomk6lsX7FiBQIDAwG8uiDeN998g3///RdZWVnw9fXFggULCj20lB9PvyYiIpIedb+/K9R1ZEoDgwwREZH0SPI6MkRERESaYJAhIiIiyWKQISIiIslikCEiIiLJ0kqQSUxM1MZiiIiIiDSicZCZNWsW1q5dq3jeq1cvVK1aFdWqVcOFCxe0WhwRERFRUTQOMosWLVLciHHfvn3Yt28fdu3ahU6dOmHcuHFaL5CIiIioMBpf2TchIUERZLZv345evXqhY8eOqFGjBry8vLReIBEREVFhNN4jU6VKFcUdpXfv3g0fHx8Ar+6blJubq93qiIiIiIqg8R6ZHj164PPPP0ft2rXx7NkzdOrUCQBw7tw51KpVS+sFEhERERVG4yAzb9481KhRA/fu3cPs2bNhYmICAIiPj0dQUJDWCyQiIiIqDO+1RERERBWOut/fau2R2bp1Kzp16gR9fX1s3bq1yGm7deumWaVEREREJaTWHhkdHR0kJCTAxsYGOjqFjw+WyWQVbsAv98gQERFJj1b3yMjlcpX/JiIiIipPWr3XUnp6ujYXR0RERFQkjYNMhw4d8ODBgwLtJ0+eROPGjbVRExEREZFaNA4yRkZGaNiwoeJ+S3K5HFOmTEGrVq3QuXNnrRdIREREVBiNryOzY8cOzJ8/HwMGDMCWLVtw+/Zt3LlzB9u3b0fHjh1Lo0YiIiIilTQOMgAQHByM+/fvY9asWdDT08OhQ4fQvHlzbddGREREVCSNDy29ePECPXv2xMKFC7F48WLFTSMXLFhQGvURERERFUrjPTINGjSAi4sLzp07BxcXFwwaNAhr165FUFAQduzYgR07dpRGnUREREQFaLxHZujQoYiMjISLi4uirXfv3rhw4QJevnyp1eKIiIiIisJ7LREREVGFo9Ur+6qSnp6Ou3fvFtgL07Bhw5IukoiIiEgjGgeZJ0+eoH///ti1a5fK1yvavZaIiIjo7aXxGJnRo0cjMTERJ0+ehLGxMXbv3o2//voLtWvXLvbO2ERERETapPEemYMHD2LLli1o2rQpdHR04OzsjA8//BBmZmaYMWMGunTpUhp1EhERERWg8R6ZtLQ02NjYAACqVKmCJ0+eAAA8PDxw9uxZ7VZHREREVASNg4ybmxuio6MBAI0aNcLixYvx4MEDLFq0CPb29lovkIiIiKgwGh9aGjVqFOLj4wEAISEh8PPzQ1hYGAwMDLBy5Upt10dERERUqDe+jkx6ejquX7+O6tWrw8rKSlt1aQ2vI0NERCQ96n5/a3xo6XVHjx6Frq4umjRpUiFDDBEREb3d3ijIdOrUCQ8ePNBWLUREREQaeaMg85bf3YCIiIgqOLWDzM6dO0uzDiIiIiKNqR1kevTogcGDByM1NVXRtnjxYtja2pZKYURERETFUTvInDx5ElFRUWjYsCEiIyMBAJ9//jkqV65casURERERFUXtINOoUSNERUXhyy+/RMeOHfHNN9/g+fPnSE5OVnoQERERlZUSXUdm79696Ny5s9JgXyEEZDJZhbv7Na8jQ0REJD3qfn9rfGXfTZs2YdiwYWjdujX+97//QU9P40UQERERaYXaKSQxMRFBQUHYsmULfvzxR4waNao06yIiIiIqltpBxt3dHdWrV8fZs2fh5uZWmjURERERqUXtwb5BQUE4evQoQwwRERFVGG9808iKjoN9iYgqply5wKm453ickgkbUyM0c7GEro6svMuiCqLUBvsSERG9qd2X4xG67SrikzIVbfbmRgjp6g6/BvblWBlJzRvda4mIiEhTuy/HY9jqs0ohBgASkjIxbPVZ7L4cX06VkRQxyBARUZnJlQuEbrsKVWMa8tpCt11FrvytHvVAWqRRkMnOzoarqyuuXbtWWvUQEdFb7FTc8wJ7Yl4nAMQnZeJU3POyK4okTaMgo6+vj8zMwjdAIiKiojxOUe87RN3piDQ+tBQcHIxZs2YhJyenNOohIqK3mI2pkVanI9L4rKWoqCgcOHAAe/fuhYeHR4G7X2/atElrxRER0dulmYsl7M2NkJCUqXKcjAyAnfmrU7GJ1KFxkLGwsEDPnj1LoxYiInrL6erIENLVHcNWn4UMUAozeVeQCenqzuvJkNp4QTwiIipzvI4MFafUL4j35MkTREdHAwDc3NxgbW1d0kUREdE7xq+BPT50t+OVfemNaRxk0tLSMGLECKxatQpyuRwAoKuriy+//BK///47KlWqpPUiiYjo7aOrI4O3a9XyLoMkTuOzlsaMGYOIiAhs27YNiYmJSExMxJYtWxAREYFvvvmmNGokIiIiUknjMTJWVlbYsGED2rZtq9QeHh6OXr164cmTJ9qs741xjAwREZH0qPv9rfEemfT0dNja2hZot7GxQXp6uqaLIyIiIioxjYOMt7c3QkJClK7wm5GRgdDQUHh7e2u0rMjISHTt2hUODg6QyWT477//lF4PDAyETCZTevj5+WlaMhEREb2lNB7s+8svv8DPzw+Ojo5o1KgRAODChQswMjLCnj17NFpWWloaGjVqhAEDBqBHjx4qp/Hz88OKFSsUzw0NDTUtmYiIiN5SGgcZDw8P3Lx5E2FhYbh+/ToAoE+fPujbty+MjY01WlanTp3QqVOnIqcxNDSEnZ2dpmUSERHRO0CtINOkSRMcOHAAVapUwdSpUzF27FgMGjSotGsDABw6dAg2NjaoUqUK2rdvj+nTp6Nq1cJP18vKykJWVpbieXJyclmUSUREROVArTEy165dQ1paGgAgNDQUqamppVpUHj8/P6xatQoHDhzArFmzEBERgU6dOiE3N7fQeWbMmAFzc3PFw8nJqUxqJSIiorKn1unX3t7eMDExQcuWLREaGoqxY8fCxMRE5bSTJ08uWSEyGTZv3gx/f/9Cp7l16xZcXV2xf/9+dOjQQeU0qvbIODk58fRrIiIiCdHqLQpWrlyJkJAQbN++HTKZDLt27YKeXsFZZTJZiYOMOmrWrAkrKyvExMQUGmQMDQ05IJiIiOgdoVaQcXNzw5o1awAAOjo6OHDgAGxsbEq1MFXu37+PZ8+ewd6eNxQjIiKiEpy1lHd/JW1ITU1FTEyM4nlcXBzOnz8PS0tLWFpaIjQ0FD179oSdnR1iY2Mxfvx41KpVC76+vlqrgYiIiKSrxHe/1obTp0+jXbt2iudjxowBAAQEBGDhwoW4ePEi/vrrLyQmJsLBwQEdO3bEtGnTeOiIiIiIAJTgXktSw3stERERSU+p3WuJiIiIqKJgkCEiIiLJKlGQSUxMxNKlSzFp0iQ8f/4cAHD27Fk8ePBAq8URERERFUXjwb4XL16Ej48PzM3Ncfv2bQwaNAiWlpbYtGkT7t69i1WrVpVGnUREREQFaLxHZsyYMQgMDMTNmzdhZGSkaO/cuTMiIyO1WhwRERFRUTQOMlFRURgyZEiB9mrVqiEhIUErRRERERGpQ+MgY2hoqPKO0jdu3IC1tbVWiiIiIiJSh8ZBplu3bpg6dSqys7MBvLq/0t27dzFhwgT07NlT6wUSERERFUbjIDNnzhykpqbCxsYGGRkZaNOmDWrVqgVTU1P88MMPpVEjERERkUoan7Vkbm6Offv24ciRI7h48SJSU1PRpEkT+Pj4lEZ9RERERIXiLQqIiIiowlH3+7tEN42MiopCeHg4Hj9+XOBu2HPnzi3JIomIiIg0pnGQ+fHHH/Hdd9/Bzc0Ntra2kMlkitde/zcRERFRadM4yPz6669Yvnw5AgMDS6EcIiIiIvVpfNaSjo4OWrRoURq1EBEREWlE4yDz9ddfY/78+aVRCxEREZFGND60NHbsWHTp0gWurq5wd3eHvr6+0uubNm3SWnFERERERdE4yIwcORLh4eFo164dqlatygG+REREVG40DjJ//fUXNm7ciC5dupRGPURERERq03iMjKWlJVxdXUujFiIiIiKNaBxkpkyZgpCQEKSnp5dGPURERERq0/jQ0m+//YbY2FjY2tqiRo0aBQb7nj17VmvFERERERVF4yDj7+9fCmUQERERaY43jSQiIqIKR93vb43HyBARERFVFBofWsrNzcW8efOwbt063L17Fy9fvlR6/fnz51orjoiIiKgoGu+RCQ0Nxdy5c9G7d28kJSVhzJgx6NGjB3R0dDBlypRSKJGIiIhINY2DTFhYGJYsWYJvvvkGenp66NOnD5YuXYrJkyfjxIkTpVEjERERkUoaB5mEhAR4eHgAAExMTJCUlAQA+Oijj7Bjxw7tVkdERERUBI2DjKOjI+Lj4wEArq6u2Lt3LwAgKioKhoaG2q2OiIiIqAgaB5nu3bvjwIEDAIARI0bg+++/R+3atfHll19iwIABWi+QiIiIqDBvfB2Z48eP4/jx46hduza6du2qrbq0hteRISIikh51v781Pv06P29vb3h7e7/pYoiIiIg0VqIgc/PmTYSHh+Px48eQy+VKr02ePFkrhREREREVR+Mgs2TJEgwbNgxWVlaws7ODTCZTvCaTyRhkiIiIqMxoHGSmT5+OH374ARMmTCiNeoiIiIjUpvFZSy9evMCnn35aGrUQERERaUTjIPPpp58qrh1DREREVJ40PrRUq1YtfP/99zhx4gQ8PDygr6+v9PrIkSO1VhwRERFRUTS+joyLi0vhC5PJcOvWrTcuSpt4HRkiIiLpKbXryMTFxb1RYURERETaovEYGSIiIqKKgkGGiIiIJItBhoiIiCSLQYaIiIgki0GGiIiIJKtEQebw4cPo168fvL298eDBAwDA33//jSNHjmi1OCIiIqKiaBxkNm7cCF9fXxgbG+PcuXPIysoCACQlJeHHH3/UeoFEREREhdE4yEyfPh2LFi3CkiVLlK7q26JFC5w9e1arxREREREVReMgEx0djdatWxdoNzc3R2JiojZqIiIiIlKLxkHGzs4OMTExBdqPHDmCmjVraqUoIiIiInVoHGQGDRqEUaNG4eTJk5DJZHj48CHCwsIwduxYDBs2rDRqJCIiIlJJ43stTZw4EXK5HB06dEB6ejpat24NQ0NDjB07FiNGjCiNGomIiIhU0vju13levnyJmJgYpKamwt3dHSYmJtquTSt492siIiLpUff7W+NDSwMGDEBKSgoMDAzg7u6OZs2awcTEBGlpaRgwYMAbFU1ERESkCY2DzF9//YWMjIwC7RkZGVi1apVWiiIiIiJSh9pjZJKTkyGEgBACKSkpMDIyUryWm5uLnTt3wsbGplSKJCIiIlJF7SBjYWEBmUwGmUyGOnXqFHhdJpMhNDRUq8URERERFUXtIBMeHg4hBNq3b4+NGzfC0tJS8ZqBgQGcnZ3h4OBQKkUSERERqaJ2kGnTpg0AIC4uDtWrV4dMJnvjN4+MjMRPP/2EM2fOID4+Hps3b4a/v7/idSEEQkJCsGTJEiQmJqJFixZYuHAhateu/cbvTURERNKn1mDfixcvQi6XA3h1c8hLly7h4sWLKh+aSEtLQ6NGjTB//nyVr8+ePRu//fYbFi1ahJMnT6Jy5crw9fVFZmamRu9DREREbye1riOjo6ODhIQE2NjYQEdHBzKZDKpmk8lkyM3NLVkhMpnSHhkhBBwcHPDNN99g7NixAF6FKFtbW6xcuRKfffaZWsvldWSIiIikR93vb7UOLcXFxcHa2lrx77IQFxeHhIQE+Pj4KNrMzc3h5eWF48ePFxpksrKykJWVpXienJxc6rUSERFR+VDr0JKzszNkMhmys7MRGhoKuVwOZ2dnlQ9tSUhIAADY2toqtdva2ipeU2XGjBkwNzdXPJycnLRWExEREVUsGl0QT19fHxs3biytWrRi0qRJSEpKUjzu3btX3iURERFRKdH4yr7+/v7477//SqEUZXZ2dgCAR48eKbU/evRI8ZoqhoaGMDMzU3oQERHR20nju1/Xrl0bU6dOxdGjR+Hp6YnKlSsrvT5y5EitFObi4gI7OzscOHAAjRs3BvBqvMvJkycxbNgwrbwHERERSZvGQWbZsmWwsLDAmTNncObMGaXXZDKZRkEmNTUVMTExiudxcXE4f/48LC0tUb16dYwePRrTp09H7dq14eLigu+//x4ODg5K15ohIiKid5fGQUabZy2dPn0a7dq1UzwfM2YMACAgIAArV67E+PHjkZaWhsGDByMxMREtW7bE7t27le7zRERERO8uta4jI2W8jgwREZH0aPU6Mq8bMGBAka8vX75c00USERERlYjGQebFixdKz7Ozs3H58mUkJiaiffv2WiuMiIiIqDgaB5nNmzcXaJPL5Rg2bBhcXV21UhQRUXFy5QKn4p7jcUombEyN0MzFEro6b34zWyKSFq2NkYmOjkbbtm0RHx+vjcVpDcfIEL19dl+OR+i2q4hP+v8byNqbGyGkqzv8GtiXY2VEpC3qfn9rfEG8wsTGxiInJ0dbiyMiUmn35XgMW31WKcQAQEJSJoatPovdlyvWjykiKl0aH1rKO0U6jxAC8fHx2LFjBwICArRWGBFRfrlygdBtV6FqN7IAIAMQuu0qPnS342EmoneExkHm3LlzSs91dHRgbW2NOXPmFHtGExHRmzgV97zAnpjXCQDxSZk4Ffcc3q5Vy64wIio3GgeZ8PDw0qiDiKhYj1MKDzElmY6IpE/jIJPnyZMniI6OBgC4ubnB2tpaa0UREaliY6reVb3VnY6IpE/jwb5paWkYMGAA7O3t0bp1a7Ru3RoODg4YOHAg0tPTS6NGIiIAQDMXS9ibG6Gw0S8yvDp7qZmLZVmWRUTlSOMgM2bMGERERGDbtm1ITExEYmIitmzZgoiICHzzzTelUSMREQBAV0eGkK7uAFAgzOQ9D+nqzoG+RO8Qja8jY2VlhQ0bNqBt27ZK7eHh4ejVqxeePHmizfreGK8jQ/T24XVkiN5+pXavpfT0dNja2hZot7Gx4aElIioTfg3s8aG7Ha/sS0Sa75Hp0KEDqlatilWrVsHI6NWAuoyMDAQEBOD58+fYv39/qRRaUtwjQ0REJD2ltkfm119/ha+vLxwdHdGoUSMAwIULF2BkZIQ9e/aUvGIiIiIiDZXoXkvp6ekICwvD9evXAQD16tVD3759YWxsrPUC3xT3yBAREUlPqe2RyczMRKVKlTBo0KA3KpCIiIjoTWl8+rWNjQ0CAgKwb98+yOXy0qiJiIiISC0aB5m//voL6enp+Pjjj1GtWjWMHj0ap0+fLo3aiIiIiIqkcZDp3r071q9fj0ePHuHHH3/E1atX8cEHH6BOnTqYOnVqadRIREREpFKJBvvmd/XqVfTt2xcXL15Ebm6uNurSGg72JSIikh51v7813iOTJzMzE+vWrYO/vz+aNGmC58+fY9y4cSVdHBEREZHGND5rac+ePfjnn3/w33//QU9PD5988gn27t2L1q1bl0Z9RERERIXSOMh0794dH330EVatWoXOnTtDX1+/NOoiIiIiKpbGQebRo0cwNTUtjVqIiIiINKJxkHk9xGRmZuLly5dKr3NALREREZUVjQf7pqWlYfjw4bCxsUHlypVRpUoVpQcRERFRWdE4yIwfPx4HDx7EwoULYWhoiKVLlyI0NBQODg5YtWpVadRIREREpJLGh5a2bduGVatWoW3btujfvz9atWqFWrVqwdnZGWFhYejbt29p1ElERERUgMZ7ZJ4/f46aNWsCeDUe5vnz5wCAli1bIjIyUrvVERERERVB4yBTs2ZNxMXFAQDq1q2LdevWAXi1p8bCwkKrxREREREVReMg079/f1y4cAEAMHHiRMyfPx9GRkb4+uuveWVfIiIiKlNq32vp1q1bcHFxgUwmU2q/c+cOzpw5g1q1aqFhw4alUuSb4L2WiIiIpEfr91qqXbs2njx5onjeu3dvPHr0CM7OzujRo0eFDDFERET0dlM7yOTfcbNz506kpaVpvSAiIiIidZX47tdERERE5U3tICOTyQqMj8n/nIiIiKgsqX1BPCEEAgMDYWhoCODVfZaGDh2KypUrK023adMm7VZIREREVAi1g0xAQIDS8379+mm9GCIiIiJNqB1kVqxYUZp1EBEREWmMg32JiIhIshhkiIiISLIYZIiIiEiyGGSIiIhIshhkiIiISLIYZIiIiEiyGGSIiIhIshhkiIiISLIYZIiIiEiyGGSIiIhIshhkiIiISLIYZIiIiEiyGGSIiIhIshhkiIiISLIYZIiIiEiyGGSIiIhIshhkiIiISLIYZIiIiEiyGGSIiIhIsip0kJkyZQpkMpnSo27duuVdFhEREVUQeuVdQHHq16+P/fv3K57r6VX4komIiKiMVPhUoKenBzs7u/Iug4iIiCqgCn1oCQBu3rwJBwcH1KxZE3379sXdu3eLnD4rKwvJyclKDyIiIno7Vegg4+XlhZUrV2L37t1YuHAh4uLi0KpVK6SkpBQ6z4wZM2Bubq54ODk5lWHFREREVJZkQghR3kWoKzExEc7Ozpg7dy4GDhyocpqsrCxkZWUpnicnJ8PJyQlJSUkwMzMrq1KJiIjoDSQnJ8Pc3LzY7+8KP0bmdRYWFqhTpw5iYmIKncbQ0BCGhoZlWBURERGVlwp9aCm/1NRUxMbGwt7evrxLISIiogqgQgeZsWPHIiIiArdv38axY8fQvXt36Orqok+fPuVdGhEREVUAFfrQ0v3799GnTx88e/YM1tbWaNmyJU6cOAFra+vyLo2IiIgqgAodZNasWVPeJRAREVEFVqEPLREREREVhUGGiIiIJKtCH1oiKi25coFTcc/xOCUTNqZGaOZiCV0dWXmXRUREGmKQoXfO7svxCN12FfFJmYo2e3MjhHR1h18DntpPRCQlPLRE75Tdl+MxbPVZpRADAAlJmRi2+ix2X44vp8qIiKgkGGTonZErFwjddhWq7smR1xa67Spy5ZK5awcR0TuPQYbeGafinhfYE/M6ASA+KROn4p6XXVFERPRGGGTonfE4pfAQU5LpiIio/DHI0DvDxtRIq9MREVH5Y5Chd0YzF0vYmxuhsJOsZXh19lIzF8uyLIuIiN4Agwy9M3R1ZAjp6g4ABcJM3vOQru68ngwRkYQwyNA7xa+BPRb2awI7c+XDR3bmRljYrwmvI0NEJDG8IB69c/wa2ONDdzte2ZeI6C3AIEPvJF0dGbxdq5Z3GURE9IZ4aImIiIgki0GGiIiIJItBhoiIiCSLQYaIiIgki0GGiIiIJItBhoiIiCSLQYaIiIgki0GGiIiIJItBhoiIiCSLQYaIiIgki0GGiIiIJItBhoiIiCSLQYaIiIgki0GGiIiIJItBhoiIiCSLQYaIiIgki0GGiIiIJItBhoiIiCSLQYaIiIgki0GGiIiIJItBhoiIiCSLQYaIiIgki0GGiIiIJItBhoiIiCSLQYaIiIgki0GGiIiIJItBhoiIiCSLQYaIiIgki0GGiIiIJItBhoiIiCRLr7wLkKJcucCpuOd4nJIJG1MjNHOxhK6OrLzLIiIieucwyGho9+V4hG67ivikTEWbvbkRQrq6w6+BfTlWRkRE9O7hoSUN7L4cj2GrzyqFGABISMrEsNVnsftyfDlVRkRE9G5ikFFTrlwgdNtVCBWv5bWFbruKXLmqKYiIiKg0MMio6VTc8wJ7Yl4nAMQnZeJU3POyK4qIiOgdxyCjpscphYeYkkxHREREb45BRk02pkZanY6IiIjeHIOMmpq5WMLe3AiFnWQtw6uzl5q5WJZlWURERO80Bhk16erIENLVHQAKhJm85yFd3Xk9GSIiojLEIKMBvwb2WNivCezMlQ8f2ZkbYWG/JryODBERURnjBfE05NfAHh+62/HKvkRERBUAg0wJ6OrI4O1atbzLICIieufx0BIRERFJFoMMERERSRaDDBEREUmWJILM/PnzUaNGDRgZGcHLywunTp0q75KIiIioAqjwQWbt2rUYM2YMQkJCcPbsWTRq1Ai+vr54/PhxeZdGRERE5azCB5m5c+di0KBB6N+/P9zd3bFo0SJUqlQJy5cvL+/SiIiIqJxV6CDz8uVLnDlzBj4+Poo2HR0d+Pj44Pjx4yrnycrKQnJystKDiIiI3k4VOsg8ffoUubm5sLW1VWq3tbVFQkKCynlmzJgBc3NzxcPJyaksSiUiIqJyUKGDTElMmjQJSUlJise9e/fKuyQiIiIqJRX6yr5WVlbQ1dXFo0ePlNofPXoEOzs7lfMYGhrC0NBQ8VwIAQA8xERERCQhed/bed/jhanQQcbAwACenp44cOAA/P39AQByuRwHDhzA8OHD1VpGSkoKAPAQExERkQSlpKTA3Ny80NcrdJABgDFjxiAgIABNmzZFs2bN8MsvvyAtLQ39+/dXa34HBwfcu3cPpqamkMm0d2PH5ORkODk54d69ezAzM9PaciuSt72Pb3v/gLe/j+yf9L3tfWT/Sk4IgZSUFDg4OBQ5XYUPMr1798aTJ08wefJkJCQkoHHjxti9e3eBAcCF0dHRgaOjY6nVZ2Zm9lZunK972/v4tvcPePv7yP5J39veR/avZIraE5OnwgcZABg+fLjah5KIiIjo3fHWnbVERERE7w4GmRIyNDRESEiI0hlSb5u3vY9ve/+At7+P7J/0ve19ZP9Kn0wUd14TERERUQXFPTJEREQkWQwyREREJFkMMkRERCRZDDJEREQkWQwyhYiMjETXrl3h4OAAmUyG//77r9h5Dh06hCZNmsDQ0BC1atXCypUrS73OktK0f4cOHYJMJivwKOwu5OVtxowZeP/992FqagobGxv4+/sjOjq62PnWr1+PunXrwsjICB4eHti5c2cZVFsyJenjypUrC6xDIyOjMqpYMwsXLkTDhg0VF9ry9vbGrl27ipxHSutP0/5Jad2pMnPmTMhkMowePbrI6aS0DvNTp49SWo9TpkwpUGvdunWLnKc81h+DTCHS0tLQqFEjzJ8/X63p4+Li0KVLF7Rr1w7nz5/H6NGj8dVXX2HPnj2lXGnJaNq/PNHR0YiPj1c8bGxsSqnCNxMREYHg4GCcOHEC+/btQ3Z2Njp27Ii0tLRC5zl27Bj69OmDgQMH4ty5c/D394e/vz8uX75chpWrryR9BF5dgfP1dXjnzp0yqlgzjo6OmDlzJs6cOYPTp0+jffv2+Pjjj3HlyhWV00tt/WnaP0A66y6/qKgoLF68GA0bNixyOqmtw9ep20dAWuuxfv36SrUeOXKk0GnLbf0JKhYAsXnz5iKnGT9+vKhfv75SW+/evYWvr28pVqYd6vQvPDxcABAvXrwok5q07fHjxwKAiIiIKHSaXr16iS5duii1eXl5iSFDhpR2eVqhTh9XrFghzM3Ny64oLatSpYpYunSpytekvv6EKLp/Ul13KSkponbt2mLfvn2iTZs2YtSoUYVOK9V1qEkfpbQeQ0JCRKNGjdSevrzWH/fIaMnx48fh4+Oj1Obr64vjx4+XU0Wlo3HjxrC3t8eHH36Io0ePlnc5aktKSgIAWFpaFjqN1NehOn0EgNTUVDg7O8PJyanYPQAVRW5uLtasWYO0tDR4e3urnEbK60+d/gHSXHfBwcHo0qVLgXWjilTXoSZ9BKS1Hm/evAkHBwfUrFkTffv2xd27dwudtrzWnyTutSQFCQkJBW5kaWtri+TkZGRkZMDY2LicKtMOe3t7LFq0CE2bNkVWVhaWLl2Ktm3b4uTJk2jSpEl5l1ckuVyO0aNHo0WLFmjQoEGh0xW2DivqOKDXqdtHNzc3LF++HA0bNkRSUhJ+/vlnNG/eHFeuXCnVm6uW1KVLl+Dt7Y3MzEyYmJhg8+bNcHd3VzmtFNefJv2T2roDgDVr1uDs2bOIiopSa3oprkNN+yil9ejl5YWVK1fCzc0N8fHxCA0NRatWrXD58mWYmpoWmL681h+DDKnFzc0Nbm5uiufNmzdHbGws5s2bh7///rscKytecHAwLl++XOSxXalTt4/e3t5Kv/ibN2+OevXqYfHixZg2bVppl6kxNzc3nD9/HklJSdiwYQMCAgIQERFR6Je91GjSP6mtu3v37mHUqFHYt29fhR3M+qZK0kcprcdOnTop/t2wYUN4eXnB2dkZ69atw8CBA8uxMmUMMlpiZ2eHR48eKbU9evQIZmZmkt8bU5hmzZpV+HAwfPhwbN++HZGRkcX+2ilsHdrZ2ZVmiW9Mkz7mp6+vj/feew8xMTGlVN2bMTAwQK1atQAAnp6eiIqKwq+//orFixcXmFaK60+T/uVX0dfdmTNn8PjxY6U9trm5uYiMjMQff/yBrKws6OrqKs0jtXVYkj7mV9HX4+ssLCxQp06dQmstr/XHMTJa4u3tjQMHDii17du3r8jj3VJ3/vx52Nvbl3cZKgkhMHz4cGzevBkHDx6Ei4tLsfNIbR2WpI/55ebm4tKlSxV2PeYnl8uRlZWl8jWprT9ViupffhV93XXo0AGXLl3C+fPnFY+mTZuib9++OH/+vMoveKmtw5L0Mb+Kvh5fl5qaitjY2EJrLbf1V6pDiSUsJSVFnDt3Tpw7d04AEHPnzhXnzp0Td+7cEUIIMXHiRPHFF18opr9165aoVKmSGDdunLh27ZqYP3++0NXVFbt37y6vLhRJ0/7NmzdP/Pfff+LmzZvi0qVLYtSoUUJHR0fs37+/vLpQpGHDhglzc3Nx6NAhER8fr3ikp6crpvniiy/ExIkTFc+PHj0q9PT0xM8//yyuXbsmQkJChL6+vrh06VJ5dKFYJeljaGio2LNnj4iNjRVnzpwRn332mTAyMhJXrlwpjy4UaeLEiSIiIkLExcWJixcviokTJwqZTCb27t0rhJD++tO0f1Jad4XJf0aP1NehKsX1UUrr8ZtvvhGHDh0ScXFx4ujRo8LHx0dYWVmJx48fCyEqzvpjkClE3unG+R8BAQFCCCECAgJEmzZtCszTuHFjYWBgIGrWrClWrFhR5nWrS9P+zZo1S7i6ugojIyNhaWkp2rZtKw4ePFg+xatBVd8AKK2TNm3aKPqbZ926daJOnTrCwMBA1K9fX+zYsaNsC9dASfo4evRoUb16dWFgYCBsbW1F586dxdmzZ8u+eDUMGDBAODs7CwMDA2FtbS06dOig+JIXQvrrT9P+SWndFSb/l7zU16EqxfVRSuuxd+/ewt7eXhgYGIhq1aqJ3r17i5iYGMXrFWX9yYQQonT3+RARERGVDo6RISIiIslikCEiIiLJYpAhIiIiyWKQISIiIslikCEiIiLJYpAhIiIiyWKQISIiIslikCF6S0yZMgWNGzfW+nITEhLw4YcfonLlyrCwsFBrnkOHDkEmkyExMVHr9ZSXo0ePwsPDA/r6+vD39y/197t9+zZkMhnOnz9f6u9VVmQyGf7777/yLoPeMgwy9E47fvw4dHV10aVLl/Iu5Y2NHTu2wH1OtGHevHmIj4/H+fPncePGDa0vXyrGjBmDxo0bIy4uDitXrtTqsgMDA8skHAHAhAkTUKNGDaSkpCi1d+3aFa1bt4ZcLi+1946Pj1e6ozKRNjDI0Dtt2bJlGDFiBCIjI/Hw4cPyLueNmJiYoGrVqlpfbmxsLDw9PVG7dm3Y2NhofflSERsbi/bt28PR0VHtPVP5vXz5UrtFlcDUqVNhYmKCMWPGKNqWL1+O8PBwrFixAjo6pfe1YGdnB0NDw1JbPr2jSv0mCEQVVEpKijAxMRHXr18XvXv3Fj/88EOx8zg7O4tp06aJL774QlSuXFlUr15dbNmyRTx+/Fh069ZNVK5cWXh4eIioqCil+Q4fPixatmwpjIyMhKOjoxgxYoRITU1VvL5q1Srh6ekpTExMhK2trejTp4949OiR4vW8e2Pt379feHp6CmNjY+Ht7S2uX7+umCYkJEQ0atRI8TwgIEB8/PHH4qeffhJ2dnbC0tJSBAUFiZcvXyqmefjwoejcubMwMjISNWrUEGFhYcLZ2VnMmzdP0V/kuxdXXFycACDOnTunWM6LFy8EABEeHq5U74sXLwr9LAGIJUuWCH9/f2FsbCxq1aoltmzZong9JydHDBgwQNSoUUMYGRmJOnXqiF9++UVpGXl9/OGHH4SNjY0wNzcXoaGhIjs7W4wdO1ZUqVJFVKtWTSxfvlxpvrt374pPP/1UmJubiypVqohu3bqJuLg4lXXm9Rcq7md16NAh8f777wsDAwNhZ2cnJkyYILKzsxXztmnTRgQHB4tRo0aJqlWrirZt2xZYfkhISIHlh4eHK95348aNom3btsLY2Fg0bNhQHDt2TGn+4rYtVU6fPi309fXFrl27xJ07d4SZmZmYP39+kfMUt42GhoYKe3t78fTpU0Vb586dRdu2bUVubq4Q4tU637x5sxBCiKysLBEcHCzs7OyEoaGhqF69uvjxxx+LrIFIFQYZemctW7ZMNG3aVAghxLZt24Srq6uQy+VFzuPs7CwsLS3FokWLxI0bN8SwYcOEmZmZ8PPzE+vWrRPR0dHC399f1KtXT7GsmJgYUblyZTFv3jxx48YNcfToUfHee++JwMBApVp27twpYmNjxfHjx4W3t7fo1KmT4vW8YODl5SUOHTokrly5Ilq1aiWaN2+umEZVkDEzMxNDhw4V165dE9u2bROVKlUSf/75p2IaHx8f0bhxY3HixAlx5swZ0aZNG2FsbKwIMo8fPxZ+fn6iV69eIj4+XiQmJmo1yDg6Oop//vlH3Lx5U4wcOVKYmJiIZ8+eCSGEePnypZg8ebKIiooSt27dEqtXrxaVKlUSa9euVeqjqampCA4OFtevXxfLli0TAISvr6/44YcfxI0bN8S0adOEvr6+uHfvnmK59erVEwMGDBAXL14UV69eFZ9//rlwc3MTWVlZBerMyckR8fHxwszMTPzyyy+KO4zfv39fVKpUSQQFBYlr166JzZs3CysrKxESEqKYt02bNsLExESMGzdOXL9+XSl45klJSRG9evUSfn5+ijuYZ2VlKT7nunXriu3bt4vo6GjxySefCGdnZ0VYUmfbKszkyZNFtWrVROvWrYWPj0+x235x22hOTo7w9vYW/v7+Qggh/vjjD2FhYSHu3LmjmOb1IPPTTz8JJycnERkZKW7fvi0OHz4s/vnnn2LrJsqPQYbeWc2bN1f8ws/OzhZWVlaKL+LCODs7i379+imex8fHCwDi+++/V7QdP35cABDx8fFCCCEGDhwoBg8erLScw4cPCx0dHZGRkaHyfaKiogQAkZKSIoRQ3iOTZ8eOHQKAYhmqgoyzs7PIyclRtH366aeid+/eQgghrl27JgAo7T26efOmAKAIMkII8fHHHyvd4VabQea7775TPE9NTRUAxK5duwqdJzg4WPTs2bNAH/N+8QshhJubm2jVqpXieU5OjqhcubL4999/hRBC/P3338LNzU3pizsrK0sYGxuLPXv2FPre5ubmSncW//bbbwssZ/78+cLExERRT5s2bcR7771X6DJf78fHH3+s1Jb3OS9dulTRduXKFQFAXLt2TQhRsm0rz8uXL4WTk5MwNDRUChvqyr+NCiFEbGysMDU1FRMmTBDGxsYiLCxMaZ7Xg8yIESNE+/btiw1QRMXhGBl6J0VHR+PUqVPo06cPAEBPTw+9e/fGsmXLip23YcOGin/b2toCADw8PAq0PX78GABw4cIFrFy5EiYmJoqHr68v5HI54uLiAABnzpxB165dUb16dZiamqJNmzYAgLt37xb63vb29krvo0r9+vWhq6urNE/e9NHR0dDT00OTJk0Ur9eqVQtVqlQp9jPQltf7U7lyZZiZmSn1Z/78+fD09IS1tTVMTEzw559/FvhM6tevrzSuw9bWVml96OrqomrVqkrrIyYmBqampor1YWlpiczMTMTGxqpd+7Vr1+Dt7Q2ZTKZoa9GiBVJTU3H//n1Fm6enp9rLVKWoda7OtlWYffv2ISEhAXK5HFFRUYr2sLAwpeUdPnwYgHrbaM2aNfHzzz9j1qxZ6NatGz7//PNC3z8wMBDnz5+Hm5sbRo4cib1792r4yRC9olfeBRCVh2XLliEnJwcODg6KNiEEDA0N8ccff8Dc3LzQefX19RX/zvsSU9WWd/ZHamoqhgwZgpEjRxZYVvXq1ZGWlgZfX1/4+voiLCwM1tbWuHv3Lnx9fQsMDi3qfYqrNW+eNz0rJS80CCEUbdnZ2SVaVlH1rVmzBmPHjsWcOXPg7e0NU1NT/PTTTzh58mSxyyhquampqfD09ERYWFiBeqytrUvUj6JUrlz5jeZ/k22rMC9evMCgQYPw3XffQQiBoKAgtGnTBlZWVujWrRu8vLwU01arVk2jbTQyMhK6urq4ffs2cnJyoKen+mumSZMmiIuLw65du7B//3706tULPj4+2LBhg/ofDhEYZOgdlJOTg1WrVmHOnDno2LGj0mv+/v74999/MXToUK29X5MmTXD16lXUqlVL5euXLl3Cs2fPMHPmTDg5OQEATp8+rbX3L4ybmxtycnJw7tw5xV6DmJgYvHjxosj58r7s4+Pj8d577wFAqVzr5OjRo2jevDmCgoIUbZrsMSlMkyZNsHbtWtjY2MDMzKzEy6lXrx42btwIIYQiYBw9ehSmpqZwdHTUaFkGBgbIzc3VuIbitq3CjBgxAnZ2dvj2228BAFu2bEFwcDDWrl0LU1NTmJqaKk1/5swZtbbRtWvXYtOmTTh06BB69eqFadOmITQ0tNA6zMzM0Lt3b/Tu3RuffPIJ/Pz88Pz5c1haWmrUH3q38dASvXO2b9+OFy9eYODAgWjQoIHSo2fPnmodXtLEhAkTcOzYMQwfPhznz5/HzZs3sWXLFgwfPhzAq1/OBgYG+P3333Hr1i1s3boV06ZN02oNqtStWxc+Pj4YPHgwTp06hXPnzmHw4MEwNjZWOlySn7GxMT744APMnDkT165dQ0REBL777jut11e7dm2cPn0ae/bswY0bN/D9998rHQIpqb59+8LKygoff/wxDh8+jLi4OBw6dAgjR45UOiRUnKCgINy7dw8jRozA9evXsWXLFoSEhGDMmDEan8Jco0YNXLx4EdHR0Xj69Knae7iK27ZU2bx5M9avX4+//voLenp60NPTw19//YX//vsPGzduVDmPOtvo/fv3MWzYMMyaNQstW7bEihUr8OOPP+LEiRMqlzl37lz8+++/uH79Om7cuIH169fDzs6uxKe207uLQYbeOcuWLYOPj4/Kw0c9e/bE6dOncfHiRa29X8OGDREREYEbN26gVatWeO+99zB58mTFYS1ra2usXLkS69evh7u7O2bOnImff/5Za+9flFWrVsHW1hatW7dG9+7dMWjQIJiamsLIyKjI+ZYvX46cnBx4enpi9OjRmD59utZrGzJkCHr06IHevXvDy8sLz549U9o7U1KVKlVCZGQkqlevjh49eqBevXoYOHAgMjMzNdpDU61aNezcuROnTp1Co0aNMHToUAwcOLBEoW7QoEFwc3ND06ZNYW1tjaNHj6o1X3HbVn5Pnz7F0KFDERISggYNGijaPTw8EBISgqCgIDx9+rTAfMVto0IIBAYGolmzZooQ5evri2HDhqFfv35ITU0tsExTU1PMnj0bTZs2xfvvv4/bt29j586dpXodG3o7ycTrB7qJ6J12//59ODk5Yf/+/ejQoUN5l0NEVCwGGaJ32MGDB5GamgoPDw/Ex8dj/PjxePDgAW7cuFFgwCwRUUXEwb5E77Ds7Gx8++23uHXrFkxNTdG8eXOEhYUxxBCRZHCPDBEREUkWR1URERGRZDHIEBERkWQxyBAREZFkMcgQERGRZDHIEBERkWQxyBAREZFkMcgQERGRZDHIEBERkWQxyBAREZFk/R/Z1Q83hM1MkwAAAABJRU5ErkJggg==",
      "text/plain": [
       "<Figure size 640x480 with 1 Axes>"
      ]
     },
     "metadata": {},
     "output_type": "display_data"
    }
   ],
   "source": [
    "plt.scatter(x = list_numbers, y = list_numbers_sqr)\n",
    "plt.xlabel(\"A meaningful name for the X-axis\")\n",
    "plt.ylabel(\"Favourite name for Y-axis\")\n",
    "plt.title(\"A graph showing the square of a list of numbers\")\n",
    "plt.show()"
   ]
  },
  {
   "cell_type": "code",
<<<<<<< HEAD
   "execution_count": 50,
=======
   "execution_count": 42,
>>>>>>> upstream/main
   "metadata": {},
   "outputs": [
    {
     "data": {
      "image/png": "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",
      "text/plain": [
       "<Figure size 640x480 with 1 Axes>"
      ]
     },
     "metadata": {},
     "output_type": "display_data"
    }
   ],
   "source": [
    "# Create a list with numbers, then create your own scatter plot\n",
    "\n",
    "list_x_numbers = [0, 1, 2, 3]\n",
    "list_y_numbers = []\n",
    "for x in list_x_numbers:\n",
    "    list_y_numbers.append(x**2)\n",
    "\n",
    "plt.scatter(x = list_x_numbers, y = list_y_numbers)\n",
    "plt.xlabel(\"A meaningful name for the X-axis\")\n",
    "plt.ylabel(\"Favourite name for Y-axis\")\n",
    "plt.title(\"A graph showing the square of a list of numbers\")\n",
    "plt.show()"
   ]
  },
  {
   "attachments": {},
   "cell_type": "markdown",
   "metadata": {},
   "source": [
    "# <span style=\"color:darkblue\"> Additional Resources </span>\n",
    "\n",
    "<font size=\"5\"> \n",
    "\n",
    "Check out additional examples at:\n",
    "\n",
    "- https://allendowney.github.io/ElementsOfDataScience/01_variables.html\n",
    "- https://allendowney.github.io/ElementsOfDataScience/03_arrays.html\n",
    "\n"
   ]
  },
  {
   "attachments": {},
   "cell_type": "markdown",
   "metadata": {},
   "source": [
    "# <span style=\"color:darkblue\"> (Optional) Common Pitfalls </span>\n",
    "\n",
    "<font size=\"5\"> \n",
    "\n",
    "It's very common to enter a command incorrectly\n",
    "- There will be an arrow pointing to the problematic line\n",
    "- Focus on the message following \"NameError\""
   ]
  },
  {
   "attachments": {},
   "cell_type": "markdown",
   "metadata": {},
   "source": [
    "<font size=\"5\"> \n",
    "\n",
    "Pro Tip:\n",
    "- Type in google the message for \"NameError\" plus the word Python\n",
    "- Somebody may have a solution/explanation!"
   ]
  },
  {
   "attachments": {},
   "cell_type": "markdown",
   "metadata": {},
   "source": [
    "<font size=\"5\"> \n",
    "\n",
    "Example 1: Not including quotations"
   ]
  },
  {
   "cell_type": "code",
<<<<<<< HEAD
   "execution_count": 51,
=======
   "execution_count": 44,
>>>>>>> upstream/main
   "metadata": {},
   "outputs": [
    {
     "ename": "NameError",
     "evalue": "name 'hello' is not defined",
     "output_type": "error",
     "traceback": [
<<<<<<< HEAD
      "\u001b[1;31m---------------------------------------------------------------------------\u001b[0m",
      "\u001b[1;31mNameError\u001b[0m                                 Traceback (most recent call last)",
      "Cell \u001b[1;32mIn[51], line 3\u001b[0m\n\u001b[0;32m      1\u001b[0m \u001b[39m# When you don't include quotation marks,\u001b[39;00m\n\u001b[0;32m      2\u001b[0m \u001b[39m# Python will try to search for a variable called Hello\u001b[39;00m\n\u001b[1;32m----> 3\u001b[0m \u001b[39mtype\u001b[39m(hello)\n",
      "\u001b[1;31mNameError\u001b[0m: name 'hello' is not defined"
=======
      "\u001b[0;31m---------------------------------------------------------------------------\u001b[0m",
      "\u001b[0;31mNameError\u001b[0m                                 Traceback (most recent call last)",
      "Cell \u001b[0;32mIn[44], line 3\u001b[0m\n\u001b[1;32m      1\u001b[0m \u001b[39m# When you don't include quotation marks,\u001b[39;00m\n\u001b[1;32m      2\u001b[0m \u001b[39m# Python will try to search for a variable called Hello\u001b[39;00m\n\u001b[0;32m----> 3\u001b[0m \u001b[39mtype\u001b[39m(hello)\n",
      "\u001b[0;31mNameError\u001b[0m: name 'hello' is not defined"
>>>>>>> upstream/main
     ]
    }
   ],
   "source": [
    "# When you don't include quotation marks,\n",
    "# Python will try to search for a variable called Hello\n",
    "type(hello)"
   ]
  },
  {
   "cell_type": "code",
   "execution_count": 45,
   "metadata": {},
   "outputs": [
    {
     "data": {
      "text/plain": [
       "str"
      ]
     },
<<<<<<< HEAD
     "execution_count": 26,
=======
     "execution_count": 45,
>>>>>>> upstream/main
     "metadata": {},
     "output_type": "execute_result"
    }
   ],
   "source": [
    "# This commands works if we already defined a variable, e.g.\n",
    "type(message_hello)"
   ]
  },
  {
   "attachments": {},
   "cell_type": "markdown",
   "metadata": {},
   "source": [
    "<font size=\"5\"> \n",
    "\n",
    "Examples 2: Operations with mixed types don't work"
   ]
  },
  {
   "cell_type": "code",
<<<<<<< HEAD
   "execution_count": 55,
   "metadata": {},
   "outputs": [
    {
     "name": "stdout",
     "output_type": "stream",
     "text": [
      "hola 3\n"
=======
   "execution_count": 46,
   "metadata": {},
   "outputs": [
    {
     "ename": "TypeError",
     "evalue": "can only concatenate str (not \"int\") to str",
     "output_type": "error",
     "traceback": [
      "\u001b[0;31m---------------------------------------------------------------------------\u001b[0m",
      "\u001b[0;31mTypeError\u001b[0m                                 Traceback (most recent call last)",
      "Cell \u001b[0;32mIn[46], line 2\u001b[0m\n\u001b[1;32m      1\u001b[0m \u001b[39m# If you add a number and a string you get a concatenated string\u001b[39;00m\n\u001b[0;32m----> 2\u001b[0m \u001b[39mprint\u001b[39m(\u001b[39m\"\u001b[39;49m\u001b[39mhola\u001b[39;49m\u001b[39m\"\u001b[39;49m \u001b[39m+\u001b[39;49m number3)\n",
      "\u001b[0;31mTypeError\u001b[0m: can only concatenate str (not \"int\") to str"
>>>>>>> upstream/main
     ]
    }
   ],
   "source": [
    "# If you add a number and a string you get a concatenated string\n",
    "print(\"hola\" + number3) # print(\"hola\", number3) comma works"
   ]
  },
  {
   "cell_type": "code",
<<<<<<< HEAD
   "execution_count": 53,
=======
   "execution_count": 47,
>>>>>>> upstream/main
   "metadata": {},
   "outputs": [
    {
     "name": "stdout",
     "output_type": "stream",
     "text": [
      "hola3\n"
     ]
    }
   ],
   "source": [
    "# You can convert an integer to string first\n",
    "print(\"hola\" + str(number3))"
   ]
  },
  {
   "attachments": {},
   "cell_type": "markdown",
   "metadata": {},
   "source": [
    "<font size=\"5\"> \n",
    "\n",
    "Examples 3: Not all mathematical operations on numeric lists work\n",
    "\n",
    "- We need a different object: arrays!\n",
    "- We'll look into this in future classes"
   ]
  },
  {
   "cell_type": "code",
<<<<<<< HEAD
   "execution_count": 58,
   "metadata": {},
   "outputs": [
    {
     "name": "stdout",
     "output_type": "stream",
     "text": [
      "[1, 2, 3, 4, 5]\n"
     ]
    },
    {
     "data": {
      "text/plain": [
       "[1, 2, 3, 4, 5, 1, 2, 3, 4, 5]"
      ]
     },
     "execution_count": 58,
     "metadata": {},
     "output_type": "execute_result"
    }
   ],
   "source": [
    "# You can convert an integer to string first\n",
    "print(list_numbers)\n",
    "list_numbers * 2"
=======
   "execution_count": 63,
   "metadata": {},
   "outputs": [
    {
     "ename": "TypeError",
     "evalue": "unsupported operand type(s) for /: 'list' and 'int'",
     "output_type": "error",
     "traceback": [
      "\u001b[0;31m---------------------------------------------------------------------------\u001b[0m",
      "\u001b[0;31mTypeError\u001b[0m                                 Traceback (most recent call last)",
      "Cell \u001b[0;32mIn[63], line 1\u001b[0m\n\u001b[0;32m----> 1\u001b[0m list_numbers \u001b[39m/\u001b[39;49m \u001b[39m2\u001b[39;49m\n",
      "\u001b[0;31mTypeError\u001b[0m: unsupported operand type(s) for /: 'list' and 'int'"
     ]
    }
   ],
   "source": [
    "list_numbers / 2"
>>>>>>> upstream/main
   ]
  }
 ],
 "metadata": {
  "kernelspec": {
   "display_name": "Python 3",
   "language": "python",
   "name": "python3"
  },
  "language_info": {
   "codemirror_mode": {
    "name": "ipython",
    "version": 3
   },
   "file_extension": ".py",
   "mimetype": "text/x-python",
   "name": "python",
   "nbconvert_exporter": "python",
   "pygments_lexer": "ipython3",
   "version": "3.11.1"
  },
  "orig_nbformat": 4,
  "vscode": {
   "interpreter": {
    "hash": "aee8b7b246df8f9039afb4144a1f6fd8d2ca17a180786b69acc140d282b71a49"
   }
  }
 },
 "nbformat": 4,
 "nbformat_minor": 2
}
