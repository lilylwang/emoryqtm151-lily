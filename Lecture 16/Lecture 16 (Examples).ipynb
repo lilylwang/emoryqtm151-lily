{
 "cells": [
  {
   "attachments": {},
   "cell_type": "markdown",
   "metadata": {},
   "source": [
    "# <span style=\"color:darkblue\"> Lecture 16 - Practicing Chaining </span>\n",
    "\n",
    "<font size = \"5\">\n",
    "\n",
    "In this lecture you will get a chance to practice <br>\n",
    "the main dataset operations\n",
    "\n",
    "- There will be a quiz on this lecture"
   ]
  },
  {
   "attachments": {},
   "cell_type": "markdown",
   "metadata": {},
   "source": [
    "# <span style=\"color:darkblue\"> I. Import Libraries and Data </span>\n"
   ]
  },
  {
   "cell_type": "code",
   "execution_count": 1,
   "metadata": {},
   "outputs": [],
   "source": [
    "import numpy as np\n",
    "import pandas as pd\n",
    "import matplotlib.pyplot as plt"
   ]
  },
  {
   "cell_type": "code",
   "execution_count": 2,
   "metadata": {},
   "outputs": [],
   "source": [
    "results  = pd.read_csv(\"data_raw/results.csv\")\n",
    "races    = pd.read_csv(\"data_raw/races.csv\")\n",
    "results[\"points col\"] = results[\"points\"]"
   ]
  },
  {
   "cell_type": "markdown",
   "metadata": {},
   "source": [
    "# <span style=\"color:darkblue\"> II. Review of Diagnostic Commands </span>\n"
   ]
  },
  {
   "cell_type": "markdown",
   "metadata": {},
   "source": [
    "<font size = \"5\">\n",
    "\n",
    "More details ...\n",
    "\n",
    "https://www.w3schools.com/python/pandas/pandas_cleaning.asp"
   ]
  },
  {
   "cell_type": "code",
   "execution_count": 3,
   "metadata": {},
   "outputs": [],
   "source": [
    "# (a) Count number of observations\n",
    "n_total   = len(results)\n",
    "\n",
    "# (b) Count non-missing observations\n",
    "n_nonmiss = results[\"points\"].count()\n",
    "\n",
    "# (b) Get column names\n",
    "list_names = results.columns.names\n",
    "\n",
    "# (c) Unique values\n",
    "list_ids   = pd.unique(results[\"constructorId\"])\n"
   ]
  },
  {
   "attachments": {},
   "cell_type": "markdown",
   "metadata": {},
   "source": [
    "# <span style=\"color:darkblue\"> II. Examples of Dataset Operations </span>\n",
    "\n",
    "<font size = \"5\">\n",
    "\n",
    "Full list of commands here:\n",
    "\n",
    "https://www.w3schools.com/python/pandas/pandas_ref_dataframe.asp"
   ]
  },
  {
   "attachments": {},
   "cell_type": "markdown",
   "metadata": {},
   "source": [
    "<font size = \"5\">\n",
    "\n",
    "```[] ```: Extracting columns"
   ]
  },
  {
   "cell_type": "code",
   "execution_count": 5,
   "metadata": {},
   "outputs": [
    {
     "name": "stdout",
     "output_type": "stream",
     "text": [
      "       constructorId  points  laps\n",
      "0                  1    10.0    58\n",
      "1                  2     8.0    58\n",
      "2                  3     6.0    58\n",
      "3                  4     5.0    58\n",
      "4                  1     4.0    58\n",
      "...              ...     ...   ...\n",
      "25835            210     0.0    57\n",
      "25836            210     0.0    57\n",
      "25837            131     0.0    55\n",
      "25838              3     0.0    55\n",
      "25839            214     0.0    27\n",
      "\n",
      "[25840 rows x 3 columns]\n"
     ]
    }
   ],
   "source": [
    "subset_cols = results[[\"constructorId\",\"points\",\"laps\"]]\n",
    "print(subset_cols)"
   ]
  },
  {
   "cell_type": "markdown",
   "metadata": {},
   "source": [
    "<font size = \"5\">\n",
    "\n",
    "```.query() ```: Filtering a subset of rows"
   ]
  },
  {
   "cell_type": "code",
   "execution_count": 8,
   "metadata": {},
   "outputs": [
    {
     "name": "stdout",
     "output_type": "stream",
     "text": [
      "      raceId  year  round  circuitId                   name        date  \\\n",
      "0          1  2009      1          1  Australian Grand Prix  2009-03-29   \n",
      "17        18  2008      1          1  Australian Grand Prix  2008-03-16   \n",
      "35        36  2007      1          1  Australian Grand Prix  2007-03-18   \n",
      "54        55  2006      3          1  Australian Grand Prix  2006-04-02   \n",
      "70        71  2005      1          1  Australian Grand Prix  2005-03-06   \n",
      "89        90  2004      1          1  Australian Grand Prix  2004-03-07   \n",
      "107      108  2003      1          1  Australian Grand Prix  2003-03-09   \n",
      "123      124  2002      1          1  Australian Grand Prix  2002-03-03   \n",
      "140      141  2001      1          1  Australian Grand Prix  2001-03-04   \n",
      "157      158  2000      1          1  Australian Grand Prix  2000-03-12   \n",
      "174      175  1999      1          1  Australian Grand Prix  1999-03-07   \n",
      "190      191  1998      1          1  Australian Grand Prix  1998-03-08   \n",
      "206      207  1997      1          1  Australian Grand Prix  1997-03-09   \n",
      "223      224  1996      1          1  Australian Grand Prix  1996-03-10   \n",
      "255      256  1995     17         29  Australian Grand Prix  1995-11-12   \n",
      "271      272  1994     16         29  Australian Grand Prix  1994-11-13   \n",
      "287      288  1993     16         29  Australian Grand Prix  1993-11-07   \n",
      "303      304  1992     16         29  Australian Grand Prix  1992-11-08   \n",
      "319      320  1991     16         29  Australian Grand Prix  1991-11-03   \n",
      "335      336  1990     16         29  Australian Grand Prix  1990-11-04   \n",
      "337      338  2010      2          1  Australian Grand Prix  2010-03-28   \n",
      "370      371  1989     16         29  Australian Grand Prix  1989-11-05   \n",
      "386      387  1988     16         29  Australian Grand Prix  1988-11-13   \n",
      "402      403  1987     16         29  Australian Grand Prix  1987-11-15   \n",
      "418      419  1986     16         29  Australian Grand Prix  1986-10-26   \n",
      "434      435  1985     16         29  Australian Grand Prix  1985-11-03   \n",
      "839      841  2011      1          1  Australian Grand Prix  2011-03-27   \n",
      "858      860  2012      1          1  Australian Grand Prix  2012-03-18   \n",
      "878      880  2013      1          1  Australian Grand Prix  2013-03-17   \n",
      "897      900  2014      1          1  Australian Grand Prix  2014-03-16   \n",
      "921      926  2015      1          1  Australian Grand Prix  2015-03-15   \n",
      "935      948  2016      1          1  Australian Grand Prix  2016-03-20   \n",
      "956      969  2017      1          1  Australian Grand Prix  2017-03-26   \n",
      "976      989  2018      1          1  Australian Grand Prix  2018-03-25   \n",
      "997     1010  2019      1          1  Australian Grand Prix  2019-03-17   \n",
      "1059    1076  2022      3          1  Australian Grand Prix  2022-04-10   \n",
      "1081    1100  2023      3          1  Australian Grand Prix  2023-04-02   \n",
      "\n",
      "          time                                                url    fp1_date  \\\n",
      "0     06:00:00  http://en.wikipedia.org/wiki/2009_Australian_G...          \\N   \n",
      "17    04:30:00  http://en.wikipedia.org/wiki/2008_Australian_G...          \\N   \n",
      "35    03:00:00  http://en.wikipedia.org/wiki/2007_Australian_G...          \\N   \n",
      "54    14:00:00  http://en.wikipedia.org/wiki/2006_Australian_G...          \\N   \n",
      "70    14:00:00  http://en.wikipedia.org/wiki/2005_Australian_G...          \\N   \n",
      "89          \\N  http://en.wikipedia.org/wiki/2004_Australian_G...          \\N   \n",
      "107         \\N  http://en.wikipedia.org/wiki/2003_Australian_G...          \\N   \n",
      "123         \\N  http://en.wikipedia.org/wiki/2002_Australian_G...          \\N   \n",
      "140         \\N  http://en.wikipedia.org/wiki/2001_Australian_G...          \\N   \n",
      "157         \\N  http://en.wikipedia.org/wiki/2000_Australian_G...          \\N   \n",
      "174         \\N  http://en.wikipedia.org/wiki/1999_Australian_G...          \\N   \n",
      "190         \\N  http://en.wikipedia.org/wiki/1998_Australian_G...          \\N   \n",
      "206         \\N  http://en.wikipedia.org/wiki/1997_Australian_G...          \\N   \n",
      "223         \\N  http://en.wikipedia.org/wiki/1996_Australian_G...          \\N   \n",
      "255         \\N  http://en.wikipedia.org/wiki/1995_Australian_G...          \\N   \n",
      "271         \\N  http://en.wikipedia.org/wiki/1994_Australian_G...          \\N   \n",
      "287         \\N  http://en.wikipedia.org/wiki/1993_Australian_G...          \\N   \n",
      "303         \\N  http://en.wikipedia.org/wiki/1992_Australian_G...          \\N   \n",
      "319         \\N  http://en.wikipedia.org/wiki/1991_Australian_G...          \\N   \n",
      "335         \\N  http://en.wikipedia.org/wiki/1990_Australian_G...          \\N   \n",
      "337   06:00:00  http://en.wikipedia.org/wiki/2010_Australian_G...          \\N   \n",
      "370         \\N  http://en.wikipedia.org/wiki/1989_Australian_G...          \\N   \n",
      "386         \\N  http://en.wikipedia.org/wiki/1988_Australian_G...          \\N   \n",
      "402         \\N  http://en.wikipedia.org/wiki/1987_Australian_G...          \\N   \n",
      "418         \\N  http://en.wikipedia.org/wiki/1986_Australian_G...          \\N   \n",
      "434         \\N  http://en.wikipedia.org/wiki/1985_Australian_G...          \\N   \n",
      "839   06:00:00  http://en.wikipedia.org/wiki/2011_Australian_G...          \\N   \n",
      "858   06:00:00  http://en.wikipedia.org/wiki/2012_Australian_G...          \\N   \n",
      "878   06:00:00  http://en.wikipedia.org/wiki/2013_Australian_G...          \\N   \n",
      "897   06:00:00  http://en.wikipedia.org/wiki/2014_Australian_G...          \\N   \n",
      "921   05:00:00  http://en.wikipedia.org/wiki/2015_Australian_G...          \\N   \n",
      "935   05:00:00  http://en.wikipedia.org/wiki/2016_Australian_G...          \\N   \n",
      "956   05:00:00  http://en.wikipedia.org/wiki/2017_Australian_G...          \\N   \n",
      "976   05:10:00  http://en.wikipedia.org/wiki/2018_Australian_G...          \\N   \n",
      "997   05:10:00  http://en.wikipedia.org/wiki/2019_Australian_G...          \\N   \n",
      "1059  05:00:00  http://en.wikipedia.org/wiki/2022_Australian_G...  2022-04-08   \n",
      "1081  05:00:00  https://en.wikipedia.org/wiki/2023_Australian_...  2023-03-31   \n",
      "\n",
      "      fp1_time    fp2_date  fp2_time    fp3_date  fp3_time  quali_date  \\\n",
      "0           \\N          \\N        \\N          \\N        \\N          \\N   \n",
      "17          \\N          \\N        \\N          \\N        \\N          \\N   \n",
      "35          \\N          \\N        \\N          \\N        \\N          \\N   \n",
      "54          \\N          \\N        \\N          \\N        \\N          \\N   \n",
      "70          \\N          \\N        \\N          \\N        \\N          \\N   \n",
      "89          \\N          \\N        \\N          \\N        \\N          \\N   \n",
      "107         \\N          \\N        \\N          \\N        \\N          \\N   \n",
      "123         \\N          \\N        \\N          \\N        \\N          \\N   \n",
      "140         \\N          \\N        \\N          \\N        \\N          \\N   \n",
      "157         \\N          \\N        \\N          \\N        \\N          \\N   \n",
      "174         \\N          \\N        \\N          \\N        \\N          \\N   \n",
      "190         \\N          \\N        \\N          \\N        \\N          \\N   \n",
      "206         \\N          \\N        \\N          \\N        \\N          \\N   \n",
      "223         \\N          \\N        \\N          \\N        \\N          \\N   \n",
      "255         \\N          \\N        \\N          \\N        \\N          \\N   \n",
      "271         \\N          \\N        \\N          \\N        \\N          \\N   \n",
      "287         \\N          \\N        \\N          \\N        \\N          \\N   \n",
      "303         \\N          \\N        \\N          \\N        \\N          \\N   \n",
      "319         \\N          \\N        \\N          \\N        \\N          \\N   \n",
      "335         \\N          \\N        \\N          \\N        \\N          \\N   \n",
      "337         \\N          \\N        \\N          \\N        \\N          \\N   \n",
      "370         \\N          \\N        \\N          \\N        \\N          \\N   \n",
      "386         \\N          \\N        \\N          \\N        \\N          \\N   \n",
      "402         \\N          \\N        \\N          \\N        \\N          \\N   \n",
      "418         \\N          \\N        \\N          \\N        \\N          \\N   \n",
      "434         \\N          \\N        \\N          \\N        \\N          \\N   \n",
      "839         \\N          \\N        \\N          \\N        \\N          \\N   \n",
      "858         \\N          \\N        \\N          \\N        \\N          \\N   \n",
      "878         \\N          \\N        \\N          \\N        \\N          \\N   \n",
      "897         \\N          \\N        \\N          \\N        \\N          \\N   \n",
      "921         \\N          \\N        \\N          \\N        \\N          \\N   \n",
      "935         \\N          \\N        \\N          \\N        \\N          \\N   \n",
      "956         \\N          \\N        \\N          \\N        \\N          \\N   \n",
      "976         \\N          \\N        \\N          \\N        \\N          \\N   \n",
      "997         \\N          \\N        \\N          \\N        \\N          \\N   \n",
      "1059  03:00:00  2022-04-08  06:00:00  2022-04-09  03:00:00  2022-04-09   \n",
      "1081  01:30:00  2023-03-31  05:00:00  2023-04-01  01:30:00  2023-04-01   \n",
      "\n",
      "     quali_time sprint_date sprint_time  \n",
      "0            \\N          \\N          \\N  \n",
      "17           \\N          \\N          \\N  \n",
      "35           \\N          \\N          \\N  \n",
      "54           \\N          \\N          \\N  \n",
      "70           \\N          \\N          \\N  \n",
      "89           \\N          \\N          \\N  \n",
      "107          \\N          \\N          \\N  \n",
      "123          \\N          \\N          \\N  \n",
      "140          \\N          \\N          \\N  \n",
      "157          \\N          \\N          \\N  \n",
      "174          \\N          \\N          \\N  \n",
      "190          \\N          \\N          \\N  \n",
      "206          \\N          \\N          \\N  \n",
      "223          \\N          \\N          \\N  \n",
      "255          \\N          \\N          \\N  \n",
      "271          \\N          \\N          \\N  \n",
      "287          \\N          \\N          \\N  \n",
      "303          \\N          \\N          \\N  \n",
      "319          \\N          \\N          \\N  \n",
      "335          \\N          \\N          \\N  \n",
      "337          \\N          \\N          \\N  \n",
      "370          \\N          \\N          \\N  \n",
      "386          \\N          \\N          \\N  \n",
      "402          \\N          \\N          \\N  \n",
      "418          \\N          \\N          \\N  \n",
      "434          \\N          \\N          \\N  \n",
      "839          \\N          \\N          \\N  \n",
      "858          \\N          \\N          \\N  \n",
      "878          \\N          \\N          \\N  \n",
      "897          \\N          \\N          \\N  \n",
      "921          \\N          \\N          \\N  \n",
      "935          \\N          \\N          \\N  \n",
      "956          \\N          \\N          \\N  \n",
      "976          \\N          \\N          \\N  \n",
      "997          \\N          \\N          \\N  \n",
      "1059   06:00:00          \\N          \\N  \n",
      "1081   05:00:00          \\N          \\N  \n"
     ]
    }
   ],
   "source": [
    "lower_value          = 20\n",
    "subset_row_text      = races.query('name == \"Australian Grand Prix\"')\n",
    "subset_row_ineq      = results.query('(points >= 20) & (points <= 30)')\n",
    "subset_row_global    = results.query('(points >= @lower_value)')\n",
    "subset_row_colspaces = results.query('(`points col` >= @lower_value)')\n",
    "\n",
    "print(subset_row_text)"
   ]
  },
  {
   "attachments": {},
   "cell_type": "markdown",
   "metadata": {},
   "source": [
    "<font size = \"5\">\n",
    "\n",
    "```.recode() ```: Replacing values"
   ]
  },
  {
   "cell_type": "code",
   "execution_count": 28,
   "metadata": {},
   "outputs": [],
   "source": [
    "results   = results.replace(to_replace = [\"UK\",\"USA\"],\n",
    "                            value = [\"United Kingdom\",\"United States\"])"
   ]
  },
  {
   "attachments": {},
   "cell_type": "markdown",
   "metadata": {},
   "source": [
    "<font size = \"5\">\n",
    "\n",
    "```.groupby().agg() ```: Aggregate statistics by subgroup"
   ]
  },
  {
   "cell_type": "code",
   "execution_count": 31,
   "metadata": {},
   "outputs": [],
   "source": [
    "results_agg = results.groupby(\"driverId\").agg( median_points = (\"points\",\"median\"))"
   ]
  },
  {
   "attachments": {},
   "cell_type": "markdown",
   "metadata": {},
   "source": [
    "<font size = \"5\">\n",
    "\n",
    "```.rename() ```: Change name of columns"
   ]
  },
  {
   "cell_type": "code",
   "execution_count": 35,
   "metadata": {},
   "outputs": [],
   "source": [
    "races_rename = races.rename(columns = {\"name\": \"new_name\"})"
   ]
  }
 ],
 "metadata": {
  "kernelspec": {
   "display_name": "base",
   "language": "python",
   "name": "python3"
  },
  "language_info": {
   "codemirror_mode": {
    "name": "ipython",
    "version": 3
   },
   "file_extension": ".py",
   "mimetype": "text/x-python",
   "name": "python",
   "nbconvert_exporter": "python",
   "pygments_lexer": "ipython3",
   "version": "3.11.0"
  },
  "orig_nbformat": 4,
  "vscode": {
   "interpreter": {
    "hash": "45fc1f684f6f416f40889115beff3ddf69879b64cf4bfee48cb72a61e9d15d1a"
   }
  }
 },
 "nbformat": 4,
 "nbformat_minor": 2
}
