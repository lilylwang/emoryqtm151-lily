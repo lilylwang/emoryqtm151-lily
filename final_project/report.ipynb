{
 "cells": [
  {
   "attachments": {},
   "cell_type": "markdown",
   "metadata": {},
   "source": [
    "\"TITLE\"\n",
    "\n",
    "QTM 151 Spring 2023 Final Project\n",
    "\n",
    "Section 3 / Group 37: Eli Li, Lily Wang, Satvik Elayavalli, Singrid Matthews"
   ]
  },
  {
   "cell_type": "code",
   "execution_count": null,
   "metadata": {},
   "outputs": [],
   "source": [
    "# Introduction: markdown 1-2 para summarize main goals, what Formula 1 is\n",
    "# main question"
   ]
  },
  {
   "cell_type": "code",
   "execution_count": null,
   "metadata": {},
   "outputs": [],
   "source": [
    "\"\"\"IDEAS: \n",
    "Look at the driver ID that wins\n",
    "\n",
    "(based on drivers table)\n",
    "- nationality\n",
    "- # pit stops?\n",
    "- comparison to qualifying race: how well does the qualifying race predict the next day winner?\n",
    "- age of driver (we could use the date/wildchar thing here)\n",
    "- length of wiki page in url\n",
    "\n",
    "\"\"\""
   ]
  }
 ],
 "metadata": {
  "language_info": {
   "name": "python"
  },
  "orig_nbformat": 4
 },
 "nbformat": 4,
 "nbformat_minor": 2
}
